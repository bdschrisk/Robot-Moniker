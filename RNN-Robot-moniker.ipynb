{
 "cells": [
  {
   "cell_type": "markdown",
   "metadata": {},
   "source": [
    "# Generating Robot Names\n",
    "## Using a RNN in Pytorch\n",
    "In this notebook, we'll create a RNN language model that learns to generate new robot names from on existing robot names corpus from the past century - every robot name from movies, games and TV.\n",
    "\n",
    "__Author__\n",
    "Chris Kalle - R4 Robotics | r4robotics.com.au"
   ]
  },
  {
   "cell_type": "code",
   "execution_count": 1,
   "metadata": {
    "collapsed": true
   },
   "outputs": [],
   "source": [
    "from __future__ import unicode_literals, print_function, division\n",
    "from io import open\n",
    "import glob\n",
    "import unicodedata\n",
    "import string\n",
    "import random\n",
    "import unidecode\n",
    "import numpy as np\n",
    "from tqdm import tqdm"
   ]
  },
  {
   "cell_type": "markdown",
   "metadata": {},
   "source": [
    "#### Set up our datasource"
   ]
  },
  {
   "cell_type": "code",
   "execution_count": 2,
   "metadata": {
    "collapsed": true
   },
   "outputs": [],
   "source": [
    "## File path\n",
    "file_name = \"./data/robot-names.txt\""
   ]
  },
  {
   "cell_type": "markdown",
   "metadata": {},
   "source": [
    "### Data exploration\n",
    "Create a few helper functions to read the file as well as prepare it for ingestion into the network."
   ]
  },
  {
   "cell_type": "code",
   "execution_count": 3,
   "metadata": {},
   "outputs": [
    {
     "name": "stdout",
     "output_type": "stream",
     "text": [
      "# names: 702, # chars: 69\n",
      "\n",
      "...\n",
      "Evil Robot Axe Cop\n",
      "Miss Impact\n",
      "Alpha 7\n",
      "Trurl\n",
      "Robot Archie\n",
      "X-bot\n",
      "Marvin the Paranoid Android\n",
      "Cubot\n",
      "Zero one\n",
      "Flying Termite\n"
     ]
    }
   ],
   "source": [
    "EOS = '\\n'\n",
    "all_characters = string.ascii_letters + \" .,;'-0123456789\" + EOS\n",
    "n_letters = len(all_characters) # Plus EOS marker\n",
    "\n",
    "def findFiles(path): return glob.glob(path)\n",
    "\n",
    "# Turn a Unicode string to plain ASCII, thanks to http://stackoverflow.com/a/518232/2809427\n",
    "def unicodeToAscii(s):\n",
    "    return ''.join(\n",
    "        c for c in unicodedata.normalize('NFD', s)\n",
    "        if unicodedata.category(c) != 'Mn'\n",
    "        and c in all_characters\n",
    "    )\n",
    "\n",
    "# Read a file and split into lines\n",
    "def read_file(filename):\n",
    "    file = unidecode.unidecode(open(filename).read())\n",
    "    return file, len(file)\n",
    "\n",
    "# Build the lines file\n",
    "lines = open(file_name, encoding='utf-8').read().strip().split('\\n')\n",
    "\n",
    "file, file_len = read_file(file_name)\n",
    "all_names = [unicodeToAscii(line) for line in lines]\n",
    "\n",
    "n_names = len(all_names)\n",
    "\n",
    "if n_names == 0:\n",
    "    raise RuntimeError('Data not found.')\n",
    "\n",
    "print('# names: {}, # chars: {}'.format(n_names, n_letters))\n",
    "print(\"\\n...\")\n",
    "for i in range(10):\n",
    "    print(\"{}\".format(all_names[np.random.randint(n_names)]))"
   ]
  },
  {
   "cell_type": "markdown",
   "metadata": {},
   "source": [
    "### Data processing\n",
    "Let's implement some functions for aggegating and processing the data before assigning it to Tensor objects."
   ]
  },
  {
   "cell_type": "markdown",
   "metadata": {},
   "source": [
    "#### Random sampling\n",
    "Here we implement random sampling for use in training.  Without random sampling, a powerful enough network is able to memorise the sequence of names and recursively output the given dataset."
   ]
  },
  {
   "cell_type": "code",
   "execution_count": 4,
   "metadata": {
    "collapsed": true
   },
   "outputs": [],
   "source": [
    "import random\n",
    "\n",
    "# Random item from a list\n",
    "def randomChoice(l):\n",
    "    return l[random.randint(0, len(l) - 1)]"
   ]
  },
  {
   "cell_type": "markdown",
   "metadata": {},
   "source": [
    "#### Defining targets\n",
    "Here we create a string to character tensor, up to the maximum length."
   ]
  },
  {
   "cell_type": "code",
   "execution_count": 5,
   "metadata": {
    "collapsed": true
   },
   "outputs": [],
   "source": [
    "# String to tensor\n",
    "def char_tensor(string):\n",
    "    tensor = torch.zeros(len(string)).long()\n",
    "    for c in range(len(string)):\n",
    "        try:\n",
    "            tensor[c] = all_characters.index(string[c])\n",
    "        except:\n",
    "            continue\n",
    "    return tensor"
   ]
  },
  {
   "cell_type": "markdown",
   "metadata": {},
   "source": [
    "#### Generating training batches\n",
    "Next we create a minibatch based on a given chunk length."
   ]
  },
  {
   "cell_type": "code",
   "execution_count": 6,
   "metadata": {
    "collapsed": true
   },
   "outputs": [],
   "source": [
    "# Make input, and target tensors from a random line\n",
    "def random_training_set(chunk_len, batch_size):\n",
    "    inp = torch.LongTensor(batch_size, chunk_len)\n",
    "    target = torch.LongTensor(batch_size, chunk_len)\n",
    "    \n",
    "    random.shuffle(all_names)\n",
    "    dataset = '\\n'.join(s for s in all_names)\n",
    "    \n",
    "    for bi in range(batch_size):\n",
    "        start_index = random.randint(0, len(dataset) - chunk_len - 1)\n",
    "        end_index = start_index + chunk_len + 1\n",
    "        \n",
    "        chunk = dataset[start_index:end_index]\n",
    "        inp[bi] = char_tensor(chunk[:-1])\n",
    "        target[bi] = char_tensor(chunk[1:])\n",
    "    inp = Variable(inp)\n",
    "    target = Variable(target)\n",
    "    return inp, target"
   ]
  },
  {
   "cell_type": "markdown",
   "metadata": {},
   "source": [
    "### Building the network"
   ]
  },
  {
   "cell_type": "markdown",
   "metadata": {},
   "source": [
    "#### Creating the basic unit"
   ]
  },
  {
   "cell_type": "code",
   "execution_count": 7,
   "metadata": {
    "collapsed": true
   },
   "outputs": [],
   "source": [
    "import torch\n",
    "import torch.nn as nn\n",
    "from torch.autograd import Variable\n",
    "\n",
    "class CharRNN(nn.Module):\n",
    "    def __init__(self, input_size, hidden_size, output_size, n_layers=1):\n",
    "        super(CharRNN, self).__init__()\n",
    "        self.input_size = input_size\n",
    "        self.hidden_size = hidden_size\n",
    "        self.output_size = output_size\n",
    "        self.n_layers = n_layers\n",
    "\n",
    "        self.encoder = nn.Embedding(input_size, hidden_size)\n",
    "        self.rnn = nn.GRU(hidden_size, hidden_size, n_layers)\n",
    "        self.decoder = nn.Linear(hidden_size, output_size)\n",
    "\n",
    "    def forward(self, input, hidden):\n",
    "        batch_size = input.size(0)\n",
    "        encoded = self.encoder(input)\n",
    "        output, hidden = self.rnn(encoded.view(1, batch_size, -1), hidden)\n",
    "        output = self.decoder(output.view(batch_size, -1))\n",
    "        return output, hidden\n",
    "\n",
    "    def init_hidden(self, batch_size):\n",
    "        return Variable(torch.zeros(self.n_layers, batch_size, self.hidden_size))"
   ]
  },
  {
   "cell_type": "markdown",
   "metadata": {},
   "source": [
    "#### Initialise the network"
   ]
  },
  {
   "cell_type": "code",
   "execution_count": 8,
   "metadata": {
    "collapsed": true
   },
   "outputs": [],
   "source": [
    "### Network Parameters ###\n",
    "n_input_chars = n_letters\n",
    "n_layers = 3\n",
    "hidden_size = 128"
   ]
  },
  {
   "cell_type": "code",
   "execution_count": 9,
   "metadata": {
    "collapsed": true
   },
   "outputs": [],
   "source": [
    "decoder = CharRNN(\n",
    "    n_input_chars,\n",
    "    hidden_size,\n",
    "    n_letters,\n",
    "    n_layers=n_layers,\n",
    ")"
   ]
  },
  {
   "cell_type": "markdown",
   "metadata": {},
   "source": [
    "### Training the network"
   ]
  },
  {
   "cell_type": "markdown",
   "metadata": {},
   "source": [
    "#### Define loss and training function"
   ]
  },
  {
   "cell_type": "code",
   "execution_count": 10,
   "metadata": {
    "collapsed": true
   },
   "outputs": [],
   "source": [
    "learning_rate = 0.0001\n",
    "\n",
    "decoder_optimizer = torch.optim.Adam(decoder.parameters(), lr=learning_rate)\n",
    "criterion = nn.CrossEntropyLoss()"
   ]
  },
  {
   "cell_type": "code",
   "execution_count": 11,
   "metadata": {
    "collapsed": true
   },
   "outputs": [],
   "source": [
    "#criterion = nn.NLLLoss()\n",
    "### Training Parameters ###\n",
    "print_every = 60\n",
    "n_epochs = 2400\n",
    "chunk_len = 250\n",
    "batch_size = 32\n",
    "cuda = False\n",
    "\n",
    "save_filename = \"Robomoniker-model-GRU.pt\"\n",
    "\n",
    "def train(inp, target):\n",
    "    hidden = decoder.init_hidden(batch_size)\n",
    "    \n",
    "    decoder.zero_grad()\n",
    "    loss = 0\n",
    "\n",
    "    for c in range(chunk_len):\n",
    "        output, hidden = decoder(inp[:,c], hidden)\n",
    "        loss += criterion(output.view(batch_size, -1), target[:,c])\n",
    "\n",
    "    loss.backward()\n",
    "    decoder_optimizer.step()\n",
    "\n",
    "    return loss.data[0] / chunk_len\n",
    "\n",
    "def save():\n",
    "    torch.save(decoder, save_filename)\n",
    "    print('Saved as %s' % save_filename)"
   ]
  },
  {
   "cell_type": "markdown",
   "metadata": {},
   "source": [
    "#### Name generation function"
   ]
  },
  {
   "cell_type": "code",
   "execution_count": 12,
   "metadata": {
    "collapsed": true
   },
   "outputs": [],
   "source": [
    "import time\n",
    "import math\n",
    "\n",
    "def time_since(since):\n",
    "    s = time.time() - since\n",
    "    m = math.floor(s / 60)\n",
    "    s -= m * 60\n",
    "    return '%dm %ds' % (m, s)"
   ]
  },
  {
   "cell_type": "markdown",
   "metadata": {},
   "source": [
    "_Here a temperature parameter is used to control the randomness of the network_"
   ]
  },
  {
   "cell_type": "code",
   "execution_count": 13,
   "metadata": {
    "collapsed": true
   },
   "outputs": [],
   "source": [
    "max_length = 20\n",
    "\n",
    "def generate(decoder, prime_str='A', max_names = 15, max_length = 100, temperature=0.8, cuda=False):\n",
    "    hidden = decoder.init_hidden(1)\n",
    "    prime_input = Variable(char_tensor(prime_str).unsqueeze(0))\n",
    "\n",
    "    if cuda:\n",
    "        hidden = hidden.cuda()\n",
    "        prime_input = prime_input.cuda()\n",
    "    predicted = prime_str\n",
    "\n",
    "    # Use priming string to \"build up\" hidden state\n",
    "    for p in range(len(prime_str) - 1):\n",
    "        _, hidden = decoder(prime_input[:,p], hidden)\n",
    "        \n",
    "    inp = prime_input[:,-1]\n",
    "    \n",
    "    names = []\n",
    "    \n",
    "    while len(names) < max_names:\n",
    "        output, hidden = decoder(inp, hidden)\n",
    "\n",
    "        # Sample from the network as a multinomial distribution\n",
    "        output_dist = output.data.view(-1).div(temperature).exp()\n",
    "        top_i = torch.multinomial(output_dist, 1)[0]\n",
    "        top_i = max(0, min(top_i, len(all_characters)-1))\n",
    "\n",
    "        # Add predicted character to string and use as next input\n",
    "        predicted_char = all_characters[top_i]\n",
    "        predicted += predicted_char\n",
    "\n",
    "        if (predicted_char == '\\n' and len(predicted) > 0):\n",
    "            names.append(predicted)\n",
    "            predicted = ''\n",
    "        \n",
    "        inp = Variable(char_tensor(predicted_char).unsqueeze(0))\n",
    "        if cuda:\n",
    "            inp = inp.cuda()\n",
    "    \n",
    "    return ''.join(names)"
   ]
  },
  {
   "cell_type": "markdown",
   "metadata": {},
   "source": [
    "### Training "
   ]
  },
  {
   "cell_type": "code",
   "execution_count": 14,
   "metadata": {},
   "outputs": [
    {
     "name": "stdout",
     "output_type": "stream",
     "text": [
      "Training for 2400 epochs...\n"
     ]
    },
    {
     "name": "stderr",
     "output_type": "stream",
     "text": [
      "  0%|                                                                                         | 0/2400 [00:00<?, ?it/s]C:\\Users\\palladium\\AppData\\Local\\Continuum\\Anaconda3\\lib\\site-packages\\ipykernel\\__main__.py:24: UserWarning: invalid index of a 0-dim tensor. This will be an error in PyTorch 0.5. Use tensor.item() to convert a 0-dim tensor to a Python number\n",
      "  2%|█▉                                                                            | 59/2400 [01:45<1:04:48,  1.66s/it]"
     ]
    },
    {
     "name": "stdout",
     "output_type": "stream",
     "text": [
      "[1m 46s (60 2%) loss = 3.6459]\n",
      "xM44l5apKup\n",
      "Q r\n",
      "rtoEX\n",
      "aaytsr;b\n",
      "abtnot\n",
      "Y\n",
      "ou'\n",
      "\n",
      "a\n",
      "er\n",
      " \n",
      "\n"
     ]
    },
    {
     "name": "stderr",
     "output_type": "stream",
     "text": [
      "  5%|███▊                                                                         | 119/2400 [03:32<1:04:49,  1.70s/it]"
     ]
    },
    {
     "name": "stdout",
     "output_type": "stream",
     "text": [
      "[3m 34s (120 5%) loss = 3.5522]\n",
      "nGTRxd9eowuntlekrouyeHooMm rroobtyaeJdlnrrhaektnDDor noRreeeiNsrl\n",
      "M\n",
      "itaDpoTn\n",
      "atara otrteJain\n",
      "ohaHoonsbhBm\n",
      "\n",
      "naAy\n",
      "un siSe\n",
      "ro\n",
      "'O2Su\n",
      " \n",
      "\n"
     ]
    },
    {
     "name": "stderr",
     "output_type": "stream",
     "text": [
      "  7%|█████▋                                                                       | 179/2400 [05:21<1:03:22,  1.71s/it]"
     ]
    },
    {
     "name": "stdout",
     "output_type": "stream",
     "text": [
      "[5m 23s (180 7%) loss = 3.4961]\n",
      "bW0hz7rk\n",
      "brbooaea\n",
      "zTta0keoBt\n",
      "i\n",
      "noukoRl-tF- oWains\n",
      "aDBobiptTveoiseotl\n",
      "n \n",
      "Raoato0S\n",
      "lSeneruno\n",
      "no\n",
      " \n",
      "\n"
     ]
    },
    {
     "name": "stderr",
     "output_type": "stream",
     "text": [
      " 10%|███████▋                                                                     | 239/2400 [07:18<1:30:38,  2.52s/it]"
     ]
    },
    {
     "name": "stdout",
     "output_type": "stream",
     "text": [
      "[7m 21s (240 10%) loss = 3.2304]\n",
      "n.Fns\n",
      "oimnhtM\n",
      "RUtD\n",
      "eCotai\n",
      "ha\n",
      "rRRea\n",
      "aalEKegft\n",
      " yLu\n",
      "iuhad\n",
      "-en9\n",
      " \n",
      "\n"
     ]
    },
    {
     "name": "stderr",
     "output_type": "stream",
     "text": [
      " 12%|█████████▌                                                                   | 299/2400 [09:14<1:16:47,  2.19s/it]"
     ]
    },
    {
     "name": "stdout",
     "output_type": "stream",
     "text": [
      "[9m 16s (300 12%) loss = 3.0276]\n",
      "08L0r Let\n",
      "Terya\n",
      "Sbine\n",
      "De 7atri\n",
      "oTe\n",
      "Nme-afien\n",
      "Tuon\n",
      "Rho\n",
      "ea\n",
      "KAuPgimDi\n",
      " \n",
      "\n"
     ]
    },
    {
     "name": "stderr",
     "output_type": "stream",
     "text": [
      " 15%|███████████▌                                                                 | 359/2400 [11:15<1:15:52,  2.23s/it]"
     ]
    },
    {
     "name": "stdout",
     "output_type": "stream",
     "text": [
      "[11m 17s (360 15%) loss = 2.8916]\n",
      "Ggkherree\n",
      "Tlernr\n",
      "Bhi Rbo\n",
      "Ber\n",
      "Coc\n",
      "Zoid\n",
      "AtNet\n",
      "aEk Tusetorn\n",
      "Ced Jaccit Hebor\n",
      "Xhkie\n",
      " \n",
      "\n"
     ]
    },
    {
     "name": "stderr",
     "output_type": "stream",
     "text": [
      " 17%|█████████████▍                                                               | 419/2400 [13:18<1:11:13,  2.16s/it]"
     ]
    },
    {
     "name": "stdout",
     "output_type": "stream",
     "text": [
      "[13m 20s (420 17%) loss = 2.7355]\n",
      "W Dukant\n",
      "Cob 51ot\n",
      "Ysvat Kn0e Knn Non Ecinvhararyn\n",
      "GRonob\n",
      "Cadt Sarpos\n",
      "Cinke\n",
      "Ceaneno Voh\n",
      "Robot\n",
      "Mhav;o\n",
      "ease\n",
      " \n",
      "\n"
     ]
    },
    {
     "name": "stderr",
     "output_type": "stream",
     "text": [
      " 20%|███████████████▎                                                             | 479/2400 [15:25<1:06:54,  2.09s/it]"
     ]
    },
    {
     "name": "stdout",
     "output_type": "stream",
     "text": [
      "[15m 28s (480 20%) loss = 2.6684]\n",
      "Pc40j\n",
      "Dliilv Sapin Rosdei\n",
      "Dorne Te 3-7\n",
      "A7goruthrric\n",
      "Taana urapro 20N\n",
      "Deed Ganlot\n",
      "Ler\n",
      "Va\n",
      "Slanacs ManlI\n",
      "Oan\n",
      " \n",
      "\n"
     ]
    },
    {
     "name": "stderr",
     "output_type": "stream",
     "text": [
      " 22%|█████████████████▎                                                           | 539/2400 [17:27<1:02:32,  2.02s/it]"
     ]
    },
    {
     "name": "stdout",
     "output_type": "stream",
     "text": [
      "[17m 29s (540 22%) loss = 2.5680]\n",
      "lqemir Geran Robot\n",
      "Saca AllzrBerd\n",
      "Jo Robot\n",
      "Drin\n",
      "Zor\n",
      "SIFlpa\n",
      "bacthe\n",
      "Robobot\n",
      "Cherceat\n",
      "Tanomotbot\n",
      " \n",
      "\n"
     ]
    },
    {
     "name": "stderr",
     "output_type": "stream",
     "text": [
      " 25%|███████████████████▏                                                         | 599/2400 [19:24<1:03:32,  2.12s/it]"
     ]
    },
    {
     "name": "stdout",
     "output_type": "stream",
     "text": [
      "[19m 25s (600 25%) loss = 2.5031]\n",
      "6;5 KKi\n",
      "Siclk\n",
      "P\n",
      "Karakararas\n",
      "Droton\n",
      "Tobot\n",
      "Teralon\n",
      "Sprast Robot\n",
      "C-LFot\n",
      "Araceunt\n",
      " \n",
      "\n"
     ]
    },
    {
     "name": "stderr",
     "output_type": "stream",
     "text": [
      " 27%|█████████████████████▏                                                       | 659/2400 [21:45<1:10:33,  2.43s/it]"
     ]
    },
    {
     "name": "stdout",
     "output_type": "stream",
     "text": [
      "[21m 47s (660 27%) loss = 2.4283]\n",
      "x,010\n",
      "Gorbot\n",
      "Meratiar\n",
      "Teaghroco\n",
      "D-A90\n",
      "Thi\n",
      "6s\n",
      "Robot\n",
      "Coves\n",
      "Penes Selmter\n",
      " \n",
      "\n"
     ]
    },
    {
     "name": "stderr",
     "output_type": "stream",
     "text": [
      " 30%|███████████████████████▋                                                       | 719/2400 [23:48<57:32,  2.05s/it]"
     ]
    },
    {
     "name": "stdout",
     "output_type": "stream",
     "text": [
      "[23m 51s (720 30%) loss = 2.3518]\n",
      "9h\n",
      "Shurgor\n",
      "Ted Endate Berd\n",
      "Daraser Robot Robot\n",
      "Branlie\n",
      "Sezae\n",
      "Ginticocbot\n",
      "Colde\n",
      "Ro.\n",
      "Triciy Bot\n",
      " \n",
      "\n"
     ]
    },
    {
     "name": "stderr",
     "output_type": "stream",
     "text": [
      " 32%|█████████████████████████▋                                                     | 779/2400 [25:47<50:28,  1.87s/it]"
     ]
    },
    {
     "name": "stdout",
     "output_type": "stream",
     "text": [
      "[25m 49s (780 32%) loss = 2.2835]\n",
      ",cEf\n",
      "Serngerd\n",
      "Acse Dengerros\n",
      "Raglack\n",
      "Mace\n",
      "Androzer\n",
      "Endar Robor\n",
      "IHBacD\n",
      "Tunuto\n",
      "llan\n",
      " \n",
      "\n"
     ]
    },
    {
     "name": "stderr",
     "output_type": "stream",
     "text": [
      " 35%|███████████████████████████▌                                                   | 839/2400 [27:42<51:11,  1.97s/it]"
     ]
    },
    {
     "name": "stdout",
     "output_type": "stream",
     "text": [
      "[27m 44s (840 35%) loss = 2.2137]\n",
      "in0\n",
      "Zicfot\n",
      "Covanaharke\n",
      "Tid Robot\n",
      "Fertroy\n",
      "Mundest lund\n",
      "Jani Zare 3000\n",
      "Guhearasion\n",
      "Robot\n",
      "Foidko\n",
      " \n",
      "\n"
     ]
    },
    {
     "name": "stderr",
     "output_type": "stream",
     "text": [
      " 37%|█████████████████████████████▌                                                 | 899/2400 [29:39<48:36,  1.94s/it]"
     ]
    },
    {
     "name": "stdout",
     "output_type": "stream",
     "text": [
      "[29m 43s (900 37%) loss = 2.1740]\n",
      "stanrian\n",
      "Trous\n",
      "Jick .obot\n",
      "Musk\n",
      "Malpara\n",
      "Cyligod\n",
      "The Kadath Guilter\n",
      "Wanonal Robot\n",
      "Nac Serna\n",
      "Comber ton\n",
      " \n",
      "\n"
     ]
    },
    {
     "name": "stderr",
     "output_type": "stream",
     "text": [
      " 40%|███████████████████████████████▌                                               | 959/2400 [31:44<50:43,  2.11s/it]"
     ]
    },
    {
     "name": "stdout",
     "output_type": "stream",
     "text": [
      "[31m 46s (960 40%) loss = 2.0992]\n",
      "shid Sersher Cur Nar Flidz Motter 4\n",
      "Denmhar\n",
      "CARR Kazaranona\n",
      "Ringer\n",
      "Malt Seslorl\n",
      "Volimar Imam Ro-Luv\n",
      "Cing 3000\n",
      "Drisk\n",
      "Robot Dral\n",
      "Robot\n",
      " \n",
      "\n"
     ]
    },
    {
     "name": "stderr",
     "output_type": "stream",
     "text": [
      " 42%|█████████████████████████████████                                             | 1019/2400 [33:37<38:52,  1.69s/it]"
     ]
    },
    {
     "name": "stdout",
     "output_type": "stream",
     "text": [
      "[33m 38s (1020 42%) loss = 2.0433]\n",
      "Enachantrer\n",
      "Mecter Ephiee\n",
      "Ally Robot Marla\n",
      "Assillt\n",
      "DrO9\n",
      "Chulto tis\n",
      "Emuca tor Zero\n",
      "Cony Rodeco\n",
      "Parabot Robot\n",
      "uomon\n",
      " \n",
      "\n"
     ]
    },
    {
     "name": "stderr",
     "output_type": "stream",
     "text": [
      " 45%|███████████████████████████████████                                           | 1079/2400 [35:42<39:50,  1.81s/it]"
     ]
    },
    {
     "name": "stdout",
     "output_type": "stream",
     "text": [
      "[35m 43s (1080 45%) loss = 2.0065]\n",
      "clata Joan\n",
      "Guukent\n",
      "Malinectrobot\n",
      "Frobot\n",
      "Borbo\n",
      "The Prois\n",
      "Dran\n",
      "Minn Espha Roboid\n",
      "Batro\n",
      "Puliscinge Ictor\n",
      " \n",
      "\n"
     ]
    },
    {
     "name": "stderr",
     "output_type": "stream",
     "text": [
      " 47%|█████████████████████████████████████                                         | 1139/2400 [37:42<40:23,  1.92s/it]"
     ]
    },
    {
     "name": "stdout",
     "output_type": "stream",
     "text": [
      "[37m 45s (1140 47%) loss = 1.9166]\n",
      "mass\n",
      "The Robot Thean\n",
      "Joem The Broin\n",
      "Sergeant\n",
      "Robot Elpy Alder Lan\n",
      "Ezecrob Aldus\n",
      "Torl\n",
      "Promian\n",
      "Tork\n",
      "102\n",
      " \n",
      "\n"
     ]
    },
    {
     "name": "stderr",
     "output_type": "stream",
     "text": [
      " 50%|██████████████████████████████████████▉                                       | 1199/2400 [39:41<40:01,  2.00s/it]"
     ]
    },
    {
     "name": "stdout",
     "output_type": "stream",
     "text": [
      "[39m 44s (1200 50%) loss = 1.8598]\n",
      "ntron\n",
      "HARY\n",
      "Ivic\n",
      "Malner Edelil\n",
      "Comodobot\n",
      "Comber Mang\n",
      "Lendy And\n",
      "The Lan\n",
      "Marpy Man Metace\n",
      "Nix U'\n",
      " \n",
      "\n"
     ]
    },
    {
     "name": "stderr",
     "output_type": "stream",
     "text": [
      " 52%|████████████████████████████████████████▉                                     | 1259/2400 [41:46<44:04,  2.32s/it]"
     ]
    },
    {
     "name": "stdout",
     "output_type": "stream",
     "text": [
      "[41m 48s (1260 52%) loss = 1.8177]\n",
      "G\n",
      "Raptear\n",
      "Sallingein Zerot\n",
      "Spim\n",
      "Robord\n",
      "Chice\n",
      "Mict 5\n",
      "Tinator\n",
      "Mara\n",
      "Geda\n",
      " \n",
      "\n"
     ]
    },
    {
     "name": "stderr",
     "output_type": "stream",
     "text": [
      " 55%|██████████████████████████████████████████▊                                   | 1319/2400 [43:44<38:42,  2.15s/it]"
     ]
    },
    {
     "name": "stdout",
     "output_type": "stream",
     "text": [
      "[43m 46s (1320 55%) loss = 1.7601]\n",
      "yridon Man\n",
      "Nozbot\n",
      "Schto 1M\n",
      "Drbot\n",
      "Buster\n",
      "Dr. Evakattro\n",
      "Dahck Etharal Emilaton\n",
      "Inks Rober\n",
      "Olimicon\n",
      "Roboto\n",
      " \n",
      "\n"
     ]
    },
    {
     "name": "stderr",
     "output_type": "stream",
     "text": [
      " 57%|████████████████████████████████████████████▊                                 | 1379/2400 [45:46<29:44,  1.75s/it]"
     ]
    },
    {
     "name": "stdout",
     "output_type": "stream",
     "text": [
      "[45m 48s (1380 57%) loss = 1.7115]\n",
      "etron\n",
      "Spectroson\n",
      "Alphes\n",
      "Spaper Robot\n",
      "Chile\n",
      "Taclurs\n",
      "ST1000\n",
      "Robot Srinbot\n",
      "Gurtlic\n",
      "Robot HMOR-8\n",
      " \n",
      "\n"
     ]
    },
    {
     "name": "stderr",
     "output_type": "stream",
     "text": [
      " 60%|██████████████████████████████████████████████▊                               | 1439/2400 [47:46<36:31,  2.28s/it]"
     ]
    },
    {
     "name": "stdout",
     "output_type": "stream",
     "text": [
      "[47m 48s (1440 60%) loss = 1.6795]\n",
      "HJCNo\n",
      "Kahatlincloid the Robot\n",
      "Winky Robot\n",
      "Cochnt Man\n",
      "IV Ter Shean\n",
      "Lindroid\n",
      "Cuse\n",
      "Chiig\n",
      "Kotone 1\n",
      "Barsemica\n",
      " \n",
      "\n"
     ]
    },
    {
     "name": "stderr",
     "output_type": "stream",
     "text": [
      " 62%|████████████████████████████████████████████████▋                             | 1499/2400 [49:45<41:33,  2.77s/it]"
     ]
    },
    {
     "name": "stdout",
     "output_type": "stream",
     "text": [
      "[49m 48s (1500 62%) loss = 1.6550]\n",
      "H9-817\n",
      "Tilly\n",
      "Jeant\n",
      "Mave Mochren\n",
      "Roboy Ger\n",
      "Serfous Promic\n",
      "Wustor A0Na\n",
      "Spreslot\n",
      "Nh-27\n",
      "Busy\n",
      " \n",
      "\n"
     ]
    },
    {
     "name": "stderr",
     "output_type": "stream",
     "text": [
      " 65%|██████████████████████████████████████████████████▋                           | 1559/2400 [51:48<26:02,  1.86s/it]"
     ]
    },
    {
     "name": "stdout",
     "output_type": "stream",
     "text": [
      "[51m 50s (1560 65%) loss = 1.5917]\n",
      "6\n",
      "T-3\n",
      "Rectoro\n",
      "Stellebot\n",
      "Mega\n",
      "Stalles 2\n",
      "Brandes\n",
      "Wearmesd the Labot\n",
      "Pik\n",
      "Geattron\n",
      " \n",
      "\n"
     ]
    },
    {
     "name": "stderr",
     "output_type": "stream",
     "text": [
      " 67%|████████████████████████████████████████████████████▌                         | 1619/2400 [53:50<28:45,  2.21s/it]"
     ]
    },
    {
     "name": "stdout",
     "output_type": "stream",
     "text": [
      "[53m 52s (1620 67%) loss = 1.5912]\n",
      "J5\n",
      "Noman\n",
      "Danace Lon\n",
      "Jack Zane Iron\n",
      "Mr Robot\n",
      "Hema\n",
      "Taun of Tetlort 8\n",
      "Sher Mander\n",
      "Dakanl Pore Robot\n",
      "Ro-9\n",
      " \n",
      "\n"
     ]
    },
    {
     "name": "stderr",
     "output_type": "stream",
     "text": [
      " 70%|██████████████████████████████████████████████████████▌                       | 1679/2400 [55:52<20:43,  1.73s/it]"
     ]
    },
    {
     "name": "stdout",
     "output_type": "stream",
     "text": [
      "[55m 55s (1680 70%) loss = 1.4913]\n",
      "ler Hammes\n",
      "Comber Robot\n",
      "Naxon\n",
      "HAL-9000\n",
      "Gallex Man\n",
      "Sccleeter\n",
      "Daven\n",
      "Tesam\n",
      "Renderal\n",
      "Cybot\n",
      " \n",
      "\n"
     ]
    },
    {
     "name": "stderr",
     "output_type": "stream",
     "text": [
      " 72%|████████████████████████████████████████████████████████▌                     | 1739/2400 [57:49<18:53,  1.72s/it]"
     ]
    },
    {
     "name": "stdout",
     "output_type": "stream",
     "text": [
      "[57m 53s (1740 72%) loss = 1.5025]\n",
      "lyn All Crill Creadian\n",
      "Battle Cos\n",
      "Cyanous 7-00\n",
      "Grachunder\n",
      "The Daveger\n",
      "Malton\n",
      "Dallinal Apia\n",
      "Chip\n",
      "Zerohd\n",
      "Azakinan\n",
      " \n",
      "\n"
     ]
    },
    {
     "name": "stderr",
     "output_type": "stream",
     "text": [
      " 75%|██████████████████████████████████████████████████████████▍                   | 1799/2400 [59:58<31:18,  3.13s/it]"
     ]
    },
    {
     "name": "stdout",
     "output_type": "stream",
     "text": [
      "[60m 0s (1800 75%) loss = 1.4229]\n",
      "gr Man\n",
      "Devadructy\n",
      "Bral Man\n",
      "Teney\n",
      "Olimnip Sergin\n",
      "Marget\n",
      "Adam\n",
      "Clicker\n",
      "Sectonetron\n",
      "Sectomora 900\n",
      " \n",
      "\n"
     ]
    },
    {
     "name": "stderr",
     "output_type": "stream",
     "text": [
      " 77%|██████████████████████████████████████████████████████████▊                 | 1859/2400 [1:01:55<16:00,  1.77s/it]"
     ]
    },
    {
     "name": "stdout",
     "output_type": "stream",
     "text": [
      "[61m 57s (1860 77%) loss = 1.3736]\n",
      "mudt Clorche\n",
      "Zero\n",
      "Ixot\n",
      "Orcho\n",
      "Cony Winen\n",
      "Janes\n",
      "MALk\n",
      "Cyanuro\n",
      "Terminator\n",
      "Dr. Poper\n",
      " \n",
      "\n"
     ]
    },
    {
     "name": "stderr",
     "output_type": "stream",
     "text": [
      " 80%|████████████████████████████████████████████████████████████▊               | 1919/2400 [1:03:55<14:19,  1.79s/it]"
     ]
    },
    {
     "name": "stdout",
     "output_type": "stream",
     "text": [
      "[63m 56s (1920 80%) loss = 1.3689]\n",
      "L\n",
      "Karus Six\n",
      "Deitur Trune Quee\n",
      "Beatron\n",
      "C5 3000\n",
      "Nart\n",
      "Astra\n",
      "To-bot\n",
      "Voltrie\n",
      "Intureno\n",
      " \n",
      "\n"
     ]
    },
    {
     "name": "stderr",
     "output_type": "stream",
     "text": [
      " 82%|██████████████████████████████████████████████████████████████▋             | 1979/2400 [1:06:01<15:03,  2.15s/it]"
     ]
    },
    {
     "name": "stdout",
     "output_type": "stream",
     "text": [
      "[66m 3s (1980 82%) loss = 1.3052]\n",
      "gr\n",
      "Specter\n",
      "Chice\n",
      "SURON\n",
      "K1-R\n",
      "Junnem Sermant\n",
      "Valeed\n",
      "Dallic Sinop\n",
      "Link\n",
      "The Oreato\n",
      " \n",
      "\n"
     ]
    },
    {
     "name": "stderr",
     "output_type": "stream",
     "text": [
      " 85%|████████████████████████████████████████████████████████████████▌           | 2039/2400 [1:08:00<10:32,  1.75s/it]"
     ]
    },
    {
     "name": "stdout",
     "output_type": "stream",
     "text": [
      "[68m 2s (2040 85%) loss = 1.3002]\n",
      "HwIDk\n",
      "Stella Todrace\n",
      "Orsion\n",
      "Bester\n",
      "Android 6\n",
      "Combot\n",
      "Madaybot\n",
      "Trize\n",
      "Shoobord\n",
      "BriZame\n",
      " \n",
      "\n"
     ]
    },
    {
     "name": "stderr",
     "output_type": "stream",
     "text": [
      " 87%|██████████████████████████████████████████████████████████████████▍         | 2099/2400 [1:10:08<10:26,  2.08s/it]"
     ]
    },
    {
     "name": "stdout",
     "output_type": "stream",
     "text": [
      "[70m 10s (2100 87%) loss = 1.2629]\n",
      ";\n",
      "Pinsmoud\n",
      "Cledbot\n",
      "Elektrobot\n",
      "Robo-Lame\n",
      "Murg\n",
      "Tilly\n",
      "Co-4o\n",
      "Iras\n",
      "Gindertrecto\n",
      " \n",
      "\n"
     ]
    },
    {
     "name": "stderr",
     "output_type": "stream",
     "text": [
      " 90%|████████████████████████████████████████████████████████████████████▎       | 2159/2400 [1:12:04<07:00,  1.74s/it]"
     ]
    },
    {
     "name": "stdout",
     "output_type": "stream",
     "text": [
      "[72m 7s (2160 90%) loss = 1.2171]\n",
      "Wyfter the Havunk\n",
      "Dalave Sergeant Braebot\n",
      "Tonto\n",
      "Go-bot\n",
      "Froch-B\n",
      "Golitmura\n",
      "Maranoid 2000\n",
      "Mark Qoo\n",
      "MMO\n",
      "Machine Gort\n",
      " \n",
      "\n"
     ]
    },
    {
     "name": "stderr",
     "output_type": "stream",
     "text": [
      " 92%|██████████████████████████████████████████████████████████████████████▎     | 2219/2400 [1:14:03<05:30,  1.83s/it]"
     ]
    },
    {
     "name": "stdout",
     "output_type": "stream",
     "text": [
      "[74m 5s (2220 92%) loss = 1.1908]\n",
      "chrbot\n",
      "Corty 500\n",
      "Med-Za\n",
      "Mama Wating\n",
      "Robo-Lawyer\n",
      "Octango-8\n",
      "XBus\n",
      "Robot Bos\n",
      "Tisl\n",
      "Robot Thanama of the Bolbot\n",
      " \n",
      "\n"
     ]
    },
    {
     "name": "stderr",
     "output_type": "stream",
     "text": [
      " 95%|████████████████████████████████████████████████████████████████████████▏   | 2279/2400 [1:16:12<04:36,  2.28s/it]"
     ]
    },
    {
     "name": "stdout",
     "output_type": "stream",
     "text": [
      "[76m 14s (2280 95%) loss = 1.1746]\n",
      "23 Robot\n",
      "Krus\n",
      "T-1000\n",
      "Androtars\n",
      "Tor\n",
      "Golick\n",
      "T-9\n",
      "Jacks\n",
      "Marhic\n",
      "Borc\n",
      " \n",
      "\n"
     ]
    },
    {
     "name": "stderr",
     "output_type": "stream",
     "text": [
      " 97%|██████████████████████████████████████████████████████████████████████████  | 2339/2400 [1:18:11<02:19,  2.29s/it]"
     ]
    },
    {
     "name": "stdout",
     "output_type": "stream",
     "text": [
      "[78m 12s (2340 97%) loss = 1.1315]\n",
      "ight Mand\n",
      "Blitk\n",
      "Young Irox\n",
      "Spute\n",
      "Lothar\n",
      "Jinns\n",
      "Spot\n",
      "Cindersibot\n",
      "SAR-N9\n",
      "Scrubot\n",
      " \n",
      "\n"
     ]
    },
    {
     "name": "stderr",
     "output_type": "stream",
     "text": [
      "100%|███████████████████████████████████████████████████████████████████████████▉| 2399/2400 [1:20:21<00:02,  2.56s/it]"
     ]
    },
    {
     "name": "stdout",
     "output_type": "stream",
     "text": [
      "[80m 23s (2400 100%) loss = 1.1256]\n",
      "Qjoot\n",
      "Dunss\n",
      "Marvin tega\n",
      "Space 45\n",
      "Robo-Taxro\n",
      "Drone\n",
      "Alpha Indectro Apha Bowbot\n",
      "PDoG3\n",
      "Spadeet\n",
      "Number Tank\n",
      " \n",
      "\n"
     ]
    },
    {
     "name": "stderr",
     "output_type": "stream",
     "text": [
      "100%|████████████████████████████████████████████████████████████████████████████| 2400/2400 [1:20:23<00:00,  2.39s/it]\n"
     ]
    },
    {
     "name": "stdout",
     "output_type": "stream",
     "text": [
      "Saving...\n"
     ]
    },
    {
     "name": "stderr",
     "output_type": "stream",
     "text": [
      "C:\\Users\\palladium\\AppData\\Local\\Continuum\\Anaconda3\\lib\\site-packages\\torch\\serialization.py:193: UserWarning: Couldn't retrieve source code for container of type CharRNN. It won't be checked for correctness upon loading.\n",
      "  \"type \" + obj.__name__ + \". It won't be checked \"\n"
     ]
    },
    {
     "name": "stdout",
     "output_type": "stream",
     "text": [
      "Saved as Robomoniker-model-GRU.pt\n"
     ]
    }
   ],
   "source": [
    "start = time.time()\n",
    "all_losses = []\n",
    "loss_avg = 0\n",
    "\n",
    "try:\n",
    "    if cuda:\n",
    "        decoder.cuda()\n",
    "    \n",
    "    print(\"Training for %d epochs...\" % n_epochs)\n",
    "    for epoch in tqdm(range(1, n_epochs + 1)):\n",
    "        loss = train(*random_training_set(chunk_len, batch_size))\n",
    "        loss_avg += loss\n",
    "        all_losses.append(loss)\n",
    "\n",
    "        if epoch % print_every == 0:\n",
    "            print('[%s (%d %d%%) loss = %.4f]' % (time_since(start), epoch, epoch / n_epochs * 100, loss))\n",
    "            rand_char = random.choice(all_characters)\n",
    "            print(generate(decoder, prime_str=rand_char, max_names=10, cuda=cuda), '\\n')\n",
    "\n",
    "    print(\"Saving...\")\n",
    "    save()\n",
    "\n",
    "except KeyboardInterrupt:\n",
    "    print(\"Saving before quit...\")\n",
    "    save()"
   ]
  },
  {
   "cell_type": "markdown",
   "metadata": {},
   "source": [
    "#### Training loss history"
   ]
  },
  {
   "cell_type": "code",
   "execution_count": 15,
   "metadata": {},
   "outputs": [
    {
     "data": {
      "image/png": "[encoded data removed]",
      "text/plain": [
       "<matplotlib.figure.Figure at 0x1c4b7ff59e8>"
      ]
     },
     "metadata": {},
     "output_type": "display_data"
    }
   ],
   "source": [
    "import matplotlib.pyplot as plt\n",
    "import matplotlib.ticker as ticker\n",
    "\n",
    "plt.figure()\n",
    "plt.plot(all_losses)\n",
    "plt.show()"
   ]
  },
  {
   "cell_type": "code",
   "execution_count": 16,
   "metadata": {},
   "outputs": [
    {
     "name": "stderr",
     "output_type": "stream",
     "text": [
      "C:\\Users\\palladium\\AppData\\Local\\Continuum\\Anaconda3\\lib\\site-packages\\torch\\serialization.py:193: UserWarning: Couldn't retrieve source code for container of type CharRNN. It won't be checked for correctness upon loading.\n",
      "  \"type \" + obj.__name__ + \". It won't be checked \"\n"
     ]
    },
    {
     "name": "stdout",
     "output_type": "stream",
     "text": [
      "Saved as Robomoniker-model-GRU.pt\n"
     ]
    }
   ],
   "source": [
    "save()"
   ]
  },
  {
   "cell_type": "markdown",
   "metadata": {
    "collapsed": true
   },
   "source": [
    "### Let's robot!"
   ]
  },
  {
   "cell_type": "code",
   "execution_count": 17,
   "metadata": {},
   "outputs": [
    {
     "name": "stdout",
     "output_type": "stream",
     "text": [
      "T\n",
      "Number Six\n",
      "Cutie\n",
      "Irtac\n",
      "Davica\n",
      "Biobot\n",
      "She-x\n",
      "The Dagarmiito\n",
      "Norby\n",
      "Satanputa\n",
      "Tanaan\n",
      "Tom Clinker\n",
      "Dagsssvent\n",
      "Johnny Kachning\n",
      "Medabot\n",
      "Robot Thincy\n",
      "Jacks\n",
      "Metla Man\n",
      "Medbot\n",
      "Young Tama\n",
      "\n"
     ]
    }
   ],
   "source": [
    "decoder = torch.load(save_filename)\n",
    "primer = string.ascii_letters[np.random.randint(low=26, high=52)]\n",
    "print(generate(decoder, prime_str=primer, max_names = 20))"
   ]
  },
  {
   "cell_type": "code",
   "execution_count": null,
   "metadata": {
    "collapsed": true
   },
   "outputs": [],
   "source": []
  }
 ],
 "metadata": {
  "anaconda-cloud": {},
  "kernelspec": {
   "display_name": "Python [conda env:Anaconda3]",
   "language": "python",
   "name": "conda-env-Anaconda3-py"
  },
  "language_info": {
   "codemirror_mode": {
    "name": "ipython",
    "version": 3
   },
   "file_extension": ".py",
   "mimetype": "text/x-python",
   "name": "python",
   "nbconvert_exporter": "python",
   "pygments_lexer": "ipython3",
   "version": "3.5.4"
  }
 },
 "nbformat": 4,
 "nbformat_minor": 2
}
