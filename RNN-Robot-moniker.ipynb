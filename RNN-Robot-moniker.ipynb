{
 "cells": [
  {
   "cell_type": "markdown",
   "metadata": {},
   "source": [
    "# Generating Robot Names\n",
    "## Using a RNN in Pytorch\n",
    "In this notebook, we'll create a RNN language model that learns to generate new robot names from on existing robot names corpus from the past century - everything from movies, games and TV."
   ]
  },
  {
   "cell_type": "code",
   "execution_count": 1,
   "metadata": {
    "collapsed": true
   },
   "outputs": [],
   "source": [
    "from __future__ import unicode_literals, print_function, division\n",
    "from io import open\n",
    "import glob\n",
    "import unicodedata\n",
    "import string\n",
    "import random\n",
    "import unidecode\n",
    "import numpy as np\n",
    "from tqdm import tqdm"
   ]
  },
  {
   "cell_type": "code",
   "execution_count": 2,
   "metadata": {
    "collapsed": true
   },
   "outputs": [],
   "source": [
    "## File path\n",
    "file_name = \"./data/names/robot-names.txt\""
   ]
  },
  {
   "cell_type": "code",
   "execution_count": 3,
   "metadata": {},
   "outputs": [
    {
     "name": "stdout",
     "output_type": "stream",
     "text": [
      "# names: 702, # chars: 69\n",
      "\n",
      "...\n",
      "XJ-9 Wakeman\n",
      "SHROUD\n",
      "Gallegher\n",
      "Welder\n",
      "Madame Adolphine\n",
      "HCR-328\n",
      "NANCY-MI847J\n",
      "Hermes\n",
      "Chuck the Robot\n",
      "Dr. Kahl's Robot\n"
     ]
    }
   ],
   "source": [
    "EOS = '\\n'\n",
    "all_characters = string.ascii_letters + \" .,;'-0123456789\" + EOS\n",
    "n_letters = len(all_characters) # Plus EOS marker\n",
    "\n",
    "def findFiles(path): return glob.glob(path)\n",
    "\n",
    "# Turn a Unicode string to plain ASCII, thanks to http://stackoverflow.com/a/518232/2809427\n",
    "def unicodeToAscii(s):\n",
    "    return ''.join(\n",
    "        c for c in unicodedata.normalize('NFD', s)\n",
    "        if unicodedata.category(c) != 'Mn'\n",
    "        and c in all_characters\n",
    "    )\n",
    "\n",
    "# Read a file and split into lines\n",
    "def read_file(filename):\n",
    "    file = unidecode.unidecode(open(filename).read())\n",
    "    return file, len(file)\n",
    "\n",
    "# Build the lines file\n",
    "lines = open(file_name, encoding='utf-8').read().strip().split('\\n')\n",
    "\n",
    "file, file_len = read_file(file_name)\n",
    "all_names = [unicodeToAscii(line) for line in lines]\n",
    "\n",
    "n_names = len(all_names)\n",
    "\n",
    "if n_names == 0:\n",
    "    raise RuntimeError('Data not found.')\n",
    "\n",
    "print('# names: {}, # chars: {}'.format(n_names, n_letters))\n",
    "print(\"\\n...\")\n",
    "for i in range(10):\n",
    "    print(\"{}\".format(all_names[np.random.randint(n_names)]))"
   ]
  },
  {
   "cell_type": "markdown",
   "metadata": {},
   "source": [
    "#### Data processing\n",
    "Let's implement some functions for aggegating and processing the data before assigning it to Tensor objects."
   ]
  },
  {
   "cell_type": "code",
   "execution_count": null,
   "metadata": {
    "collapsed": true
   },
   "outputs": [],
   "source": []
  },
  {
   "cell_type": "markdown",
   "metadata": {},
   "source": [
    "#### Random sampling\n",
    "Here we implement random sampling for use in training.  Without random sampling, a powerful enough network is able to memorise the sequence of names and recursively output the given dataset."
   ]
  },
  {
   "cell_type": "code",
   "execution_count": 5,
   "metadata": {
    "collapsed": true
   },
   "outputs": [],
   "source": [
    "import random\n",
    "\n",
    "# Random item from a list\n",
    "def randomChoice(l):\n",
    "    return l[random.randint(0, len(l) - 1)]"
   ]
  },
  {
   "cell_type": "markdown",
   "metadata": {},
   "source": [
    "### Building the basic unit"
   ]
  },
  {
   "cell_type": "code",
   "execution_count": 4,
   "metadata": {
    "collapsed": true
   },
   "outputs": [],
   "source": [
    "import torch\n",
    "import torch.nn as nn\n",
    "from torch.autograd import Variable\n",
    "\n",
    "class CharRNN(nn.Module):\n",
    "    def __init__(self, input_size, hidden_size, output_size, n_layers=1):\n",
    "        super(CharRNN, self).__init__()\n",
    "        self.input_size = input_size\n",
    "        self.hidden_size = hidden_size\n",
    "        self.output_size = output_size\n",
    "        self.n_layers = n_layers\n",
    "\n",
    "        self.encoder = nn.Embedding(input_size, hidden_size)\n",
    "        self.rnn = nn.GRU(hidden_size, hidden_size, n_layers)\n",
    "        self.decoder = nn.Linear(hidden_size, output_size)\n",
    "\n",
    "    def forward(self, input, hidden):\n",
    "        batch_size = input.size(0)\n",
    "        encoded = self.encoder(input)\n",
    "        output, hidden = self.rnn(encoded.view(1, batch_size, -1), hidden)\n",
    "        output = self.decoder(output.view(batch_size, -1))\n",
    "        return output, hidden\n",
    "\n",
    "#    def forward2(self, input, hidden):\n",
    "#        encoded = self.encoder(input.view(1, -1))\n",
    "#        output, hidden = self.rnn(encoded.view(1, 1, -1), hidden)\n",
    "#        output = self.decoder(output.view(1, -1))\n",
    "#        return output, hidden\n",
    "\n",
    "    def init_hidden(self, batch_size):\n",
    "        return Variable(torch.zeros(self.n_layers, batch_size, self.hidden_size))"
   ]
  },
  {
   "cell_type": "markdown",
   "metadata": {},
   "source": [
    "### Defining targets"
   ]
  },
  {
   "cell_type": "code",
   "execution_count": 6,
   "metadata": {
    "collapsed": true
   },
   "outputs": [],
   "source": [
    "# String to tensor\n",
    "def char_tensor(string):\n",
    "    tensor = torch.zeros(len(string)).long()\n",
    "    for c in range(len(string)):\n",
    "        try:\n",
    "            tensor[c] = all_characters.index(string[c])\n",
    "        except:\n",
    "            continue\n",
    "    return tensor"
   ]
  },
  {
   "cell_type": "code",
   "execution_count": 7,
   "metadata": {
    "collapsed": true
   },
   "outputs": [],
   "source": [
    "# Make input, and target tensors from a random line\n",
    "def random_training_set(chunk_len, batch_size):\n",
    "    inp = torch.LongTensor(batch_size, chunk_len)\n",
    "    target = torch.LongTensor(batch_size, chunk_len)\n",
    "    for bi in range(batch_size):\n",
    "        start_index = random.randint(0, file_len - chunk_len - 1)\n",
    "        end_index = start_index + chunk_len + 1\n",
    "        chunk = file[start_index:end_index]\n",
    "        inp[bi] = char_tensor(chunk[:-1])\n",
    "        target[bi] = char_tensor(chunk[1:])\n",
    "    inp = Variable(inp)\n",
    "    target = Variable(target)\n",
    "    return inp, target"
   ]
  },
  {
   "cell_type": "markdown",
   "metadata": {},
   "source": [
    "### Training the network"
   ]
  },
  {
   "cell_type": "code",
   "execution_count": 8,
   "metadata": {
    "collapsed": true
   },
   "outputs": [],
   "source": [
    "criterion = nn.NLLLoss()\n",
    "\n",
    "print_every = 60\n",
    "n_epochs = 2400\n",
    "chunk_len = 250\n",
    "batch_size = 32\n",
    "learning_rate = 0.0001\n",
    "n_layers = 4\n",
    "hidden_size = 256\n",
    "\n",
    "def train(inp, target):\n",
    "    hidden = decoder.init_hidden(batch_size)\n",
    "    \n",
    "    decoder.zero_grad()\n",
    "    loss = 0\n",
    "\n",
    "    for c in range(chunk_len):\n",
    "        output, hidden = decoder(inp[:,c], hidden)\n",
    "        loss += criterion(output.view(batch_size, -1), target[:,c])\n",
    "\n",
    "    loss.backward()\n",
    "    decoder_optimizer.step()\n",
    "\n",
    "    return loss.data[0] / chunk_len\n",
    "\n",
    "save_filename = \"Robomoniker-model-GRU.pt\"\n",
    "\n",
    "def save():\n",
    "    torch.save(decoder, save_filename)\n",
    "    print('Saved as %s' % save_filename)"
   ]
  },
  {
   "cell_type": "markdown",
   "metadata": {
    "collapsed": true
   },
   "source": [
    "### Optimisation and loss"
   ]
  },
  {
   "cell_type": "code",
   "execution_count": 9,
   "metadata": {
    "collapsed": true
   },
   "outputs": [],
   "source": [
    "import time\n",
    "import math\n",
    "\n",
    "def time_since(since):\n",
    "    s = time.time() - since\n",
    "    m = math.floor(s / 60)\n",
    "    s -= m * 60\n",
    "    return '%dm %ds' % (m, s)"
   ]
  },
  {
   "cell_type": "code",
   "execution_count": 10,
   "metadata": {
    "collapsed": true
   },
   "outputs": [],
   "source": [
    "decoder = CharRNN(\n",
    "    n_letters,\n",
    "    hidden_size,\n",
    "    n_letters,\n",
    "    n_layers=n_layers,\n",
    ")\n",
    "decoder_optimizer = torch.optim.Adam(decoder.parameters(), lr=learning_rate)\n",
    "criterion = nn.CrossEntropyLoss()"
   ]
  },
  {
   "cell_type": "markdown",
   "metadata": {},
   "source": [
    "### Generator"
   ]
  },
  {
   "cell_type": "code",
   "execution_count": 11,
   "metadata": {
    "collapsed": true
   },
   "outputs": [],
   "source": [
    "max_length = 20\n",
    "\n",
    "def generate(decoder, prime_str='A', predict_len=100, temperature=0.8, cuda=False):\n",
    "    hidden = decoder.init_hidden(1)\n",
    "    prime_input = Variable(char_tensor(prime_str).unsqueeze(0))\n",
    "\n",
    "    if cuda:\n",
    "        hidden = hidden.cuda()\n",
    "        prime_input = prime_input.cuda()\n",
    "    predicted = prime_str\n",
    "\n",
    "    # Use priming string to \"build up\" hidden state\n",
    "    for p in range(len(prime_str) - 1):\n",
    "        _, hidden = decoder(prime_input[:,p], hidden)\n",
    "        \n",
    "    inp = prime_input[:,-1]\n",
    "    \n",
    "    for p in range(predict_len):\n",
    "        output, hidden = decoder(inp, hidden)\n",
    "        \n",
    "        # Sample from the network as a multinomial distribution\n",
    "        output_dist = output.data.view(-1).div(temperature).exp()\n",
    "        top_i = torch.multinomial(output_dist, 1)[0]\n",
    "        top_i = max(0, min(top_i, len(all_characters)-1))\n",
    "        \n",
    "        # Add predicted character to string and use as next input\n",
    "        predicted_char = all_characters[top_i]\n",
    "        predicted += predicted_char\n",
    "        inp = Variable(char_tensor(predicted_char).unsqueeze(0))\n",
    "        if cuda:\n",
    "            inp = inp.cuda()\n",
    "\n",
    "    return predicted"
   ]
  },
  {
   "cell_type": "code",
   "execution_count": 12,
   "metadata": {},
   "outputs": [
    {
     "name": "stdout",
     "output_type": "stream",
     "text": [
      "Training for 4000 epochs...\n"
     ]
    },
    {
     "name": "stderr",
     "output_type": "stream",
     "text": [
      "  0%|                                                                                         | 0/4000 [00:00<?, ?it/s]C:\\Users\\palladium\\AppData\\Local\\Continuum\\Anaconda3\\lib\\site-packages\\ipykernel\\__main__.py:24: UserWarning: invalid index of a 0-dim tensor. This will be an error in PyTorch 0.5. Use tensor.item() to convert a 0-dim tensor to a Python number\n",
      "  1%|▊                                                                             | 39/4000 [01:49<3:11:48,  2.91s/it]"
     ]
    },
    {
     "name": "stdout",
     "output_type": "stream",
     "text": [
      "[1m 52s (40 1%) loss = 3.5822]\n",
      "6oGnI5kRBat1wJnDean \n",
      "knS RGr3-arba- eoeoaItAiNagto\n",
      "lZotoeeoYtho\n",
      "iaW\n",
      "e \n",
      "a\n",
      "TlPn etinoJ\n",
      "SLr\n",
      " dooo\n",
      "o\n",
      "'sDO \n",
      "\n"
     ]
    },
    {
     "name": "stderr",
     "output_type": "stream",
     "text": [
      "  2%|█▌                                                                            | 79/4000 [04:08<4:24:11,  4.04s/it]"
     ]
    },
    {
     "name": "stdout",
     "output_type": "stream",
     "text": [
      "[4m 13s (80 2%) loss = 3.5316]\n",
      "B0JCXYhbt-dCM- -olraGnaS sr\n",
      "roaiok\n",
      "teolc\n",
      "lanaeneoOseas\n",
      "rleoateielbt dtFUoiet-snhT\n",
      "lOplal\n",
      "naagzcKkoBtl \n",
      "\n"
     ]
    },
    {
     "name": "stderr",
     "output_type": "stream",
     "text": [
      "  3%|██▎                                                                          | 119/4000 [06:31<5:18:49,  4.93s/it]"
     ]
    },
    {
     "name": "stdout",
     "output_type": "stream",
     "text": [
      "[6m 35s (120 3%) loss = 3.4864]\n",
      "\n",
      "yg NMr\n",
      "alpoGt\n",
      "e-e\n",
      "yDMaUnt\n",
      "rnlWod rtei\n",
      "Claa\n",
      "KMaKerACSbI\n",
      "otmtnaSi\n",
      "t\n",
      "raeDnmu \n",
      "ltaEok ipoccrulso\n",
      "hOoTi a \n",
      "\n"
     ]
    },
    {
     "name": "stderr",
     "output_type": "stream",
     "text": [
      "  4%|███                                                                          | 159/4000 [09:24<5:40:55,  5.33s/it]"
     ]
    },
    {
     "name": "stdout",
     "output_type": "stream",
     "text": [
      "[9m 28s (160 4%) loss = 3.2480]\n",
      "B-ZV0\n",
      "BUolrs\n",
      "RooBe\n",
      "oa1\n",
      "rtla nhatrbKro\n",
      "C7erme\n",
      "ACGkle oto\n",
      "oeirC cSrtteoo\n",
      "Coebr\n",
      "Rbo\n",
      "rarnngdleesnren erez \n",
      "\n"
     ]
    },
    {
     "name": "stderr",
     "output_type": "stream",
     "text": [
      "  5%|███▊                                                                         | 199/4000 [11:41<3:43:21,  3.53s/it]"
     ]
    },
    {
     "name": "stdout",
     "output_type": "stream",
     "text": [
      "[11m 45s (200 5%) loss = 2.9313]\n",
      "1;'Ln\n",
      "Jernn LME pahoaa\n",
      "Ee\n",
      "xeia E\n",
      "SeietT Roe\n",
      "INlinateu\n",
      "Crob\n",
      "Mrro\n",
      "Gbotr\n",
      "Teo\n",
      "Hianr\n",
      "luo\n",
      "Roon slok\n",
      "Avio\n",
      "eh \n",
      "\n"
     ]
    },
    {
     "name": "stderr",
     "output_type": "stream",
     "text": [
      "  6%|████▌                                                                        | 239/4000 [13:57<3:34:49,  3.43s/it]"
     ]
    },
    {
     "name": "stdout",
     "output_type": "stream",
     "text": [
      "[14m 0s (240 6%) loss = 2.7278]\n",
      "n01\n",
      "Bmamox\n",
      "Robon\n",
      "Noc2t\n",
      "Frae Kilsia\n",
      "Iasrbott\n",
      "Trina Siacnc Tartan\n",
      "Ceorbon\n",
      "Roeny\n",
      "VRo\n",
      "XYo\n",
      "Hoi Roo1d\n",
      "Caare \n",
      "\n"
     ]
    },
    {
     "name": "stderr",
     "output_type": "stream",
     "text": [
      "  7%|█████▎                                                                       | 279/4000 [16:38<3:01:48,  2.93s/it]"
     ]
    },
    {
     "name": "stdout",
     "output_type": "stream",
     "text": [
      "[16m 41s (280 7%) loss = 2.6837]\n",
      "o\n",
      "Tin\n",
      "Moro\n",
      "Supuren\n",
      "Bary\n",
      "Gagirad\n",
      "Omastarco\n",
      "Jaw\n",
      "4lirt\n",
      "Robot Rott Arcer\n",
      "Misi\n",
      "Lld--b2\n",
      "Mora\n",
      "Mabot\n",
      "Ank\n",
      "avag \n",
      "\n"
     ]
    },
    {
     "name": "stderr",
     "output_type": "stream",
     "text": [
      "  8%|██████▏                                                                      | 319/4000 [18:53<3:06:40,  3.04s/it]"
     ]
    },
    {
     "name": "stdout",
     "output_type": "stream",
     "text": [
      "[18m 56s (320 8%) loss = 2.5345]\n",
      "N88V\n",
      "Semy\n",
      "Jescor\n",
      "Mancreta\n",
      "Bimca Pankiclror\n",
      "FmoWal Pritan Gunebot\n",
      "Th Robobon\n",
      "Acitobo Robo\n",
      "Graton\n",
      "RoboC \n",
      "\n"
     ]
    },
    {
     "name": "stderr",
     "output_type": "stream",
     "text": [
      "  9%|██████▉                                                                      | 359/4000 [21:17<3:55:24,  3.88s/it]"
     ]
    },
    {
     "name": "stdout",
     "output_type": "stream",
     "text": [
      "[21m 21s (360 9%) loss = 2.4845]\n",
      "hScmere\n",
      "Merkia\n",
      "Kpas.\n",
      "Cralkor\n",
      "Piisk\n",
      "oHYKbot\n",
      "Robot\n",
      "Phane Tace Cep Illo Zanx\n",
      "Janx q-P4\n",
      "Merr Mand\n",
      "Fsian\n",
      "N \n",
      "\n"
     ]
    },
    {
     "name": "stderr",
     "output_type": "stream",
     "text": [
      " 10%|███████▋                                                                     | 399/4000 [23:43<4:13:52,  4.23s/it]"
     ]
    },
    {
     "name": "stdout",
     "output_type": "stream",
     "text": [
      "[23m 46s (400 10%) loss = 2.3857]\n",
      "h Dan Wer\n",
      "Gragh\n",
      "Secne Teet\n",
      "Adlal\n",
      "Lfilean\n",
      "Dlart\n",
      "Sernettron\n",
      "Chard\n",
      "Tlobot\n",
      "Taranun\n",
      "Ticafhronis\n",
      "Kranilemor \n",
      "\n"
     ]
    },
    {
     "name": "stderr",
     "output_type": "stream",
     "text": [
      " 11%|████████▍                                                                    | 439/4000 [26:23<3:37:47,  3.67s/it]"
     ]
    },
    {
     "name": "stdout",
     "output_type": "stream",
     "text": [
      "[26m 27s (440 11%) loss = 2.2859]\n",
      "G0d\n",
      "Tonbot\n",
      "Metatato\n",
      "Vh-04 Oegh Servebo\n",
      "Nohne Knectt\n",
      "Zea Robot\n",
      "Roiser\n",
      "Jemerador\n",
      "Ibe-Robot\n",
      "Meplera\n",
      "RoGo \n",
      "\n"
     ]
    },
    {
     "name": "stderr",
     "output_type": "stream",
     "text": [
      " 12%|█████████▏                                                                   | 479/4000 [28:34<3:38:53,  3.73s/it]"
     ]
    },
    {
     "name": "stdout",
     "output_type": "stream",
     "text": [
      "[28m 37s (480 12%) loss = 2.2114]\n",
      "lDlor Brids\n",
      "Sache\n",
      "Robot\n",
      "Yarne Robot\n",
      "Nolbot\n",
      "Hanke\n",
      "Mater\n",
      "Jachsver Probot\n",
      "Barknel Mere\n",
      "1bot Bot Magent\n",
      "B \n",
      "\n"
     ]
    },
    {
     "name": "stderr",
     "output_type": "stream",
     "text": [
      " 13%|█████████▉                                                                   | 519/4000 [30:37<2:42:52,  2.81s/it]"
     ]
    },
    {
     "name": "stdout",
     "output_type": "stream",
     "text": [
      "[30m 41s (520 13%) loss = 2.1372]\n",
      "elcanocen\n",
      "Lincy 1\n",
      "Bot\n",
      "Warger era 1N\n",
      "Tor\n",
      "Hurh\n",
      "Bot\n",
      "Ceictor\n",
      "Nopbot\n",
      "Marsa Blinnk Hechi Mama\n",
      "Zha\n",
      "Imic Andr \n",
      "\n"
     ]
    },
    {
     "name": "stderr",
     "output_type": "stream",
     "text": [
      " 14%|██████████▊                                                                  | 559/4000 [32:46<2:39:34,  2.78s/it]"
     ]
    },
    {
     "name": "stdout",
     "output_type": "stream",
     "text": [
      "[32m 49s (560 14%) loss = 2.0063]\n",
      "Visco\n",
      "Anna\n",
      "Hundernes\n",
      "Oh-R\n",
      "Slew\n",
      "Julanoro\n",
      "Zero\n",
      "Zero\n",
      "Tero Robot\n",
      "Tobot\n",
      "Ciner\n",
      "Robot Ifbot\n",
      "Comper\n",
      "Col-K-O\n",
      "T \n",
      "\n"
     ]
    },
    {
     "name": "stderr",
     "output_type": "stream",
     "text": [
      " 15%|███████████▌                                                                 | 599/4000 [35:19<2:48:37,  2.97s/it]"
     ]
    },
    {
     "name": "stdout",
     "output_type": "stream",
     "text": [
      "[35m 24s (600 15%) loss = 2.0454]\n",
      "Os\n",
      "Romid Crurnk\n",
      "The Otasd\n",
      "Rude Anper\n",
      "Serlige\n",
      "Karier Hacsretron\n",
      "Chiljor Ame Drone\n",
      "Pranene Wester\n",
      "Medan \n",
      "\n"
     ]
    },
    {
     "name": "stderr",
     "output_type": "stream",
     "text": [
      " 16%|████████████▎                                                                | 639/4000 [37:34<3:29:56,  3.75s/it]"
     ]
    },
    {
     "name": "stdout",
     "output_type": "stream",
     "text": [
      "[37m 37s (640 16%) loss = 1.9202]\n",
      "SK\n",
      "Tane\n",
      "Madeced\n",
      "Robo-Watron\n",
      "Nuutor\n",
      "CANO\n",
      "Su-Ne\n",
      "Salan\n",
      "Macian\n",
      "Runder Mant Vinik Robot\n",
      "Meeducton\n",
      "Probo-Ch \n",
      "\n"
     ]
    },
    {
     "name": "stderr",
     "output_type": "stream",
     "text": [
      " 17%|█████████████                                                                | 679/4000 [39:52<2:58:47,  3.23s/it]"
     ]
    },
    {
     "name": "stdout",
     "output_type": "stream",
     "text": [
      "[39m 55s (680 17%) loss = 1.8026]\n",
      "jzrisgiro\n",
      "Ode Robot\n",
      "Olan\n",
      "Ash Oris\n",
      "Friul Dol Robot\n",
      "KIJin\n",
      "Getala\n",
      "Iros\n",
      "Medal\n",
      "Teghtron\n",
      "Daskate\n",
      "Fradian\n",
      "Ch \n",
      "\n"
     ]
    },
    {
     "name": "stderr",
     "output_type": "stream",
     "text": [
      " 18%|█████████████▊                                                               | 719/4000 [42:08<3:13:07,  3.53s/it]"
     ]
    },
    {
     "name": "stdout",
     "output_type": "stream",
     "text": [
      "[42m 11s (720 18%) loss = 1.7870]\n",
      "X-00B\n",
      "2000\n",
      "VAR-9\n",
      "Siptor\n",
      "Roboy\n",
      "Conic\n",
      "Mix\n",
      "Bronne\n",
      "Olad Andiner\n",
      "Sini\n",
      "Ila\n",
      "Hulas\n",
      "Or Sinder\n",
      "Itimic\n",
      "Frian\n",
      "Fus \n",
      "\n"
     ]
    },
    {
     "name": "stderr",
     "output_type": "stream",
     "text": [
      " 19%|██████████████▌                                                              | 759/4000 [44:15<3:40:42,  4.09s/it]"
     ]
    },
    {
     "name": "stdout",
     "output_type": "stream",
     "text": [
      "[44m 18s (760 19%) loss = 1.7011]\n",
      "vara Arhina Kids\n",
      "Maced\n",
      "The Robot\n",
      "41\n",
      "SCK-R67\n",
      "B-3\n",
      "Bym\n",
      "Dr. Mawifa ter Vina\n",
      "Tulobot\n",
      "Ormene Sralight Robot \n",
      "\n"
     ]
    },
    {
     "name": "stderr",
     "output_type": "stream",
     "text": [
      " 20%|███████████████▍                                                             | 799/4000 [46:38<3:02:39,  3.42s/it]"
     ]
    },
    {
     "name": "stdout",
     "output_type": "stream",
     "text": [
      "[46m 41s (800 20%) loss = 1.6344]\n",
      "varkher Garmy Robot\n",
      "Cory Bom Medass\n",
      "CFifdbot\n",
      "Comman\n",
      "Esector Cobot\n",
      "CCOX-73\n",
      "Poridic\n",
      "CEM\n",
      "AD-20Z\n",
      "Lilty Ze \n",
      "\n"
     ]
    },
    {
     "name": "stderr",
     "output_type": "stream",
     "text": [
      " 21%|████████████████▏                                                            | 839/4000 [48:54<2:28:37,  2.82s/it]"
     ]
    },
    {
     "name": "stdout",
     "output_type": "stream",
     "text": [
      "[48m 57s (840 21%) loss = 1.6481]\n",
      "varl\n",
      "Hof Robot\n",
      "Sfache\n",
      "Slandy Race\n",
      "Rones\n",
      "Nutbot\n",
      "Ilpan\n",
      "Shatran Man\n",
      "Gusse Nady\n",
      "Perboo\n",
      "qelter Mang Appima \n",
      "\n"
     ]
    },
    {
     "name": "stderr",
     "output_type": "stream",
     "text": [
      " 22%|████████████████▉                                                            | 879/4000 [51:11<2:42:20,  3.12s/it]"
     ]
    },
    {
     "name": "stdout",
     "output_type": "stream",
     "text": [
      "[51m 13s (880 22%) loss = 1.5761]\n",
      "'crox the Trecter\n",
      "Yoe Starkher Sesx\n",
      "Tenlopkat\n",
      "The Macha\n",
      "Marger\n",
      "Ted Zide X\n",
      "X-R\n",
      "Tim\n",
      "Dasinuger\n",
      "Meal Tunk \n",
      "\n"
     ]
    },
    {
     "name": "stderr",
     "output_type": "stream",
     "text": [
      " 23%|█████████████████▋                                                           | 919/4000 [53:10<2:36:21,  3.04s/it]"
     ]
    },
    {
     "name": "stdout",
     "output_type": "stream",
     "text": [
      "[53m 12s (920 23%) loss = 1.4364]\n",
      "ET\n",
      "Ast 25\n",
      "Robo-Randy\n",
      "Tink\n",
      "Fries\n",
      "Conder\n",
      "Lenge-No\n",
      "Avic Man\n",
      "Daven\n",
      "Chice La\n",
      "Gron\n",
      "Marknetron\n",
      "Kirster Cforv \n",
      "\n"
     ]
    },
    {
     "name": "stderr",
     "output_type": "stream",
     "text": [
      " 24%|██████████████████▍                                                          | 959/4000 [55:14<2:58:53,  3.53s/it]"
     ]
    },
    {
     "name": "stdout",
     "output_type": "stream",
     "text": [
      "[55m 18s (960 24%) loss = 1.4400]\n",
      "Ukhsrian\n",
      "Prote Adnea Huster\n",
      "Emier Tut\n",
      "Dace L1 EVE\n",
      "Chima\n",
      "Gort\n",
      "Kallbot\n",
      "Ix-Ma\n",
      "Lister\n",
      "Noober\n",
      "Zane Dobot\n",
      "F \n",
      "\n"
     ]
    },
    {
     "name": "stderr",
     "output_type": "stream",
     "text": [
      " 25%|███████████████████▏                                                         | 999/4000 [57:15<2:17:41,  2.75s/it]"
     ]
    },
    {
     "name": "stdout",
     "output_type": "stream",
     "text": [
      "[57m 19s (1000 25%) loss = 1.3250]\n",
      "fmabot\n",
      "Nuy\n",
      "Sarchine\n",
      "the Nags\n",
      "Tret Tot\n",
      "ED Trobot\n",
      "Alsha\n",
      "Indetsi\n",
      "Malkic\n",
      "Ganink ome\n",
      "Smamoa Robot Robot on \n",
      "\n"
     ]
    },
    {
     "name": "stderr",
     "output_type": "stream",
     "text": [
      " 26%|███████████████████▋                                                        | 1039/4000 [59:20<2:59:42,  3.64s/it]"
     ]
    },
    {
     "name": "stdout",
     "output_type": "stream",
     "text": [
      "[59m 23s (1040 26%) loss = 1.3145]\n",
      "A'gro Morton\n",
      "Maran\n",
      "Anpart 100\n",
      "Dr. Bricker\n",
      "Shis\n",
      "Mids Robot\n",
      "Conk Iro\n",
      "Comila\n",
      "Modarag\n",
      "Anly Alisa\n",
      "Bom\n",
      "Hurl \n",
      "\n"
     ]
    },
    {
     "name": "stderr",
     "output_type": "stream",
     "text": [
      " 27%|███████████████████▉                                                      | 1079/4000 [1:01:22<2:13:07,  2.73s/it]"
     ]
    },
    {
     "name": "stdout",
     "output_type": "stream",
     "text": [
      "[61m 25s (1080 27%) loss = 1.2369]\n",
      "-NBo\n",
      "Azia\n",
      "Hurte\n",
      "Drboby\n",
      "Jeanbot\n",
      "Marwbera Charge\n",
      "Hamina\n",
      "Manher 100\n",
      "T-10\n",
      "Svid\n",
      "Detate X\n",
      "Robot I0D\n",
      "Jean\n",
      "To \n",
      "\n"
     ]
    },
    {
     "name": "stderr",
     "output_type": "stream",
     "text": [
      " 28%|████████████████████▋                                                     | 1119/4000 [1:03:24<2:35:26,  3.24s/it]"
     ]
    },
    {
     "name": "stdout",
     "output_type": "stream",
     "text": [
      "[63m 26s (1120 28%) loss = 1.2309]\n",
      ".\n",
      "Serlin Robot\n",
      "Jeent\n",
      "The HAAE7\n",
      "T-1003\n",
      "C-X-100\n",
      "Spom\n",
      "Mustro\n",
      "Loshis\n",
      "V3\n",
      "Irup Ivo\n",
      "Iutono\n",
      "Atomic Pred\n",
      "Prict \n",
      "\n"
     ]
    },
    {
     "name": "stderr",
     "output_type": "stream",
     "text": [
      " 29%|█████████████████████▍                                                    | 1159/4000 [1:05:25<2:10:51,  2.76s/it]"
     ]
    },
    {
     "name": "stdout",
     "output_type": "stream",
     "text": [
      "[65m 28s (1160 28%) loss = 1.1678]\n",
      "lolt\n",
      "Sachbot\n",
      "Macructot\n",
      "Turstor\n",
      "Lore\n",
      "Roboto\n",
      "Droidd\n",
      "Maphius\n",
      "Tid\n",
      "Kurtbot\n",
      "Fubot Vcreen\n",
      "Krihe Lan\n",
      "Clidmen\n",
      " \n",
      "\n"
     ]
    },
    {
     "name": "stderr",
     "output_type": "stream",
     "text": [
      " 30%|██████████████████████▏                                                   | 1199/4000 [1:07:23<2:06:46,  2.72s/it]"
     ]
    },
    {
     "name": "stdout",
     "output_type": "stream",
     "text": [
      "[67m 27s (1200 30%) loss = 1.0503]\n",
      "nreganid\n",
      "Leck Manpord\n",
      "The tha Scht Robot\n",
      "Atorbot\n",
      "Ash Dro\n",
      "Kisk Toon\n",
      "Orkis\n",
      "Hurty\n",
      "OtonR1\n",
      "Johnny Biya\n",
      "Stu \n",
      "\n"
     ]
    },
    {
     "name": "stderr",
     "output_type": "stream",
     "text": [
      " 31%|██████████████████████▉                                                   | 1239/4000 [1:09:35<2:12:41,  2.88s/it]"
     ]
    },
    {
     "name": "stdout",
     "output_type": "stream",
     "text": [
      "[69m 37s (1240 31%) loss = 1.0378]\n",
      "Sm\n",
      "Gacod\n",
      "Gallegha Qoondor\n",
      "Hatvewtructo\n",
      "Dator\n",
      "Rumdel Mine\n",
      "Nindroid\n",
      "Nan Tors\n",
      "Number Pin\n",
      "Wel EWuamier\n",
      "Ro \n",
      "\n"
     ]
    },
    {
     "name": "stderr",
     "output_type": "stream",
     "text": [
      " 32%|███████████████████████▋                                                  | 1279/4000 [1:11:41<2:12:20,  2.92s/it]"
     ]
    },
    {
     "name": "stdout",
     "output_type": "stream",
     "text": [
      "[71m 44s (1280 32%) loss = 0.9665]\n",
      "Born\n",
      "Har Ganisnen\n",
      "Daliciuretor\n",
      "Berson\n",
      "Wink Ara\n",
      "Hafher\n",
      "Moron Tors\n",
      "Number Avatrin\n",
      "Anigator\n",
      "Space Gero\n",
      "B \n",
      "\n"
     ]
    },
    {
     "name": "stderr",
     "output_type": "stream",
     "text": [
      " 33%|████████████████████████▍                                                 | 1319/4000 [1:13:52<2:20:34,  3.15s/it]"
     ]
    },
    {
     "name": "stdout",
     "output_type": "stream",
     "text": [
      "[73m 55s (1320 33%) loss = 0.9199]\n",
      "'nlinker\n",
      "Chei\n",
      "Nuutero\n",
      "Sectol Troopertron\n",
      "Guardbot Bot\n",
      "Dadac Ama Xo\n",
      "Briemon\n",
      "Pring Mavega\n",
      "Neck Visie\n",
      "Cl \n",
      "\n"
     ]
    },
    {
     "name": "stderr",
     "output_type": "stream",
     "text": [
      " 34%|█████████████████████████▏                                                | 1359/4000 [1:16:06<2:27:26,  3.35s/it]"
     ]
    },
    {
     "name": "stdout",
     "output_type": "stream",
     "text": [
      "[76m 9s (1360 34%) loss = 0.8440]\n",
      "Zerton\n",
      "David\n",
      "Robo-Na\n",
      "Her Kiom\n",
      "Manders\n",
      "Zero Adoslli\n",
      "Chip\n",
      "Robotbobo\n",
      "Milly 30\n",
      "Maya Sache Robot\n",
      "Johgce Jo \n",
      "\n"
     ]
    },
    {
     "name": "stderr",
     "output_type": "stream",
     "text": [
      " 35%|█████████████████████████▉                                                | 1399/4000 [1:18:08<2:19:32,  3.22s/it]"
     ]
    },
    {
     "name": "stdout",
     "output_type": "stream",
     "text": [
      "[78m 10s (1400 35%) loss = 0.8156]\n",
      ",ularien\n",
      "Chip\n",
      "Tistar Echanhancudor\n",
      "Tarkmine\n",
      "Heptono\n",
      "Lilti Robo\n",
      "Oight\n",
      "The Robot\n",
      "Karll Kowber Robot\n",
      "Aza \n",
      "\n"
     ]
    },
    {
     "name": "stderr",
     "output_type": "stream",
     "text": [
      " 36%|██████████████████████████▌                                               | 1439/4000 [1:20:14<2:06:16,  2.96s/it]"
     ]
    },
    {
     "name": "stdout",
     "output_type": "stream",
     "text": [
      "[80m 17s (1440 36%) loss = 0.7543]\n",
      "itren Emalter\n",
      "Molone\n",
      "Maving Mathi\n",
      "Larry 2000\n",
      "Robot Silyroi\n",
      "Ruber\n",
      "IAdad\n",
      "Kapkida\n",
      "Hurly\n",
      "Tkoe\n",
      "Sashis\n",
      "STo\n",
      " \n",
      "\n"
     ]
    },
    {
     "name": "stderr",
     "output_type": "stream",
     "text": [
      " 37%|███████████████████████████▎                                              | 1479/4000 [1:22:19<2:21:02,  3.36s/it]"
     ]
    },
    {
     "name": "stdout",
     "output_type": "stream",
     "text": [
      "[82m 22s (1480 37%) loss = 0.7154]\n",
      "Mlrator\n",
      "Robot Thorsnoid\n",
      "Hummano\n",
      "Hive\n",
      "Kevin\n",
      "Marhina\n",
      "Mega\n",
      "Guarkgoo\n",
      "Kuran Charch Ava\n",
      "Farien\n",
      "Hanator\n",
      "Vaff \n",
      "\n"
     ]
    },
    {
     "name": "stderr",
     "output_type": "stream",
     "text": [
      " 38%|████████████████████████████                                              | 1519/4000 [1:24:32<2:22:25,  3.44s/it]"
     ]
    },
    {
     "name": "stdout",
     "output_type": "stream",
     "text": [
      "[84m 35s (1520 38%) loss = 0.6618]\n",
      "Uclrenter Ameso\n",
      "HO1000\n",
      "Broni\n",
      "Atulaso\n",
      "CD-88\n",
      "Clicker\n",
      "All Fanger\n",
      "Dech Robot\n",
      "Franhepter\n",
      "Robo-Lawyer\n",
      "Robo- \n",
      "\n"
     ]
    },
    {
     "name": "stderr",
     "output_type": "stream",
     "text": [
      " 39%|████████████████████████████▊                                             | 1559/4000 [1:26:36<2:03:39,  3.04s/it]"
     ]
    },
    {
     "name": "stdout",
     "output_type": "stream",
     "text": [
      "[86m 40s (1560 39%) loss = 0.6294]\n",
      "Q;erlyron\n",
      "Ruth Robot\n",
      "Cumanors\n",
      "Ruby Congo\n",
      "Tom Sum\n",
      "Alpha Kisk Tachikon\n",
      "Tive\n",
      "Jeanky Zeid\n",
      "Adili\n",
      "Xobot\n",
      "TNi \n",
      "\n"
     ]
    },
    {
     "name": "stderr",
     "output_type": "stream",
     "text": [
      " 40%|█████████████████████████████▌                                            | 1599/4000 [1:28:44<2:06:53,  3.17s/it]"
     ]
    },
    {
     "name": "stdout",
     "output_type": "stream",
     "text": [
      "[88m 46s (1600 40%) loss = 0.6076]\n",
      "Qerron Partneud Trid Robot\n",
      "Mapce Neamietox\n",
      "Vai\n",
      "Harkness\n",
      "Ammousreizectronic\n",
      "A4-OOOO\n",
      "TAR-93\n",
      "Dr. Ashlatt \n",
      "\n"
     ]
    },
    {
     "name": "stderr",
     "output_type": "stream",
     "text": [
      " 41%|██████████████████████████████▎                                           | 1639/4000 [1:30:48<1:55:45,  2.94s/it]"
     ]
    },
    {
     "name": "stdout",
     "output_type": "stream",
     "text": [
      "[90m 51s (1640 41%) loss = 0.5621]\n",
      " Klid\n",
      "Kigty\n",
      "Bont\n",
      "Mandy Incun\n",
      "The Cronper Mank\n",
      "Kurtbot\n",
      "BBbot\n",
      "Codssirad Hip Ashatrina\n",
      "Dag\n",
      "Kaimon Tisd\n",
      "A \n",
      "\n"
     ]
    },
    {
     "name": "stderr",
     "output_type": "stream",
     "text": [
      " 42%|███████████████████████████████                                           | 1679/4000 [1:33:15<2:24:51,  3.74s/it]"
     ]
    },
    {
     "name": "stdout",
     "output_type": "stream",
     "text": [
      "[93m 21s (1680 42%) loss = 0.5847]\n",
      "Tsrector Kalmix Evatiina\n",
      "Lindroid\n",
      "Mynhander\n",
      "Andy Man\n",
      "Goass\n",
      "Lomuger\n",
      "Isal Micker\n",
      "Bathbot\n",
      "Partron Robot\n",
      " \n",
      "\n"
     ]
    },
    {
     "name": "stderr",
     "output_type": "stream",
     "text": [
      " 43%|███████████████████████████████▊                                          | 1719/4000 [1:35:28<1:52:28,  2.96s/it]"
     ]
    },
    {
     "name": "stdout",
     "output_type": "stream",
     "text": [
      "[95m 31s (1720 43%) loss = 0.5339]\n",
      "Robot\n",
      "Krackenstein\n",
      "King\n",
      "Mechatron\n",
      "Vister Rotone\n",
      "CANpx\n",
      "Afile\n",
      "Dedistor\n",
      "Robot To\n",
      "Druncy Zenyer\n",
      "Cury 5\n",
      "Di \n",
      "\n"
     ]
    },
    {
     "name": "stderr",
     "output_type": "stream",
     "text": [
      " 44%|████████████████████████████████▌                                         | 1759/4000 [1:37:26<2:04:52,  3.34s/it]"
     ]
    },
    {
     "name": "stdout",
     "output_type": "stream",
     "text": [
      "[97m 31s (1760 44%) loss = 0.4866]\n",
      "EQd-E\n",
      "Gictor\n",
      "Broby\n",
      "Proter Al. Mana\n",
      "Gale Hanhennooderidd\n",
      "Mildred 7\n",
      "Nomad Zanator\n",
      "EIDh\n",
      "Markgor\n",
      "Isasa\n",
      "Le \n",
      "\n"
     ]
    },
    {
     "name": "stderr",
     "output_type": "stream",
     "text": [
      " 45%|█████████████████████████████████▎                                        | 1799/4000 [1:39:40<1:58:10,  3.22s/it]"
     ]
    },
    {
     "name": "stdout",
     "output_type": "stream",
     "text": [
      "[99m 44s (1800 45%) loss = 0.4089]\n",
      "Szk\n",
      "Markuro\n",
      "Nectex Wisi\n",
      "Alip Termood Tarkkatta\n",
      "Larro\n",
      "Chip\n",
      "Kette\n",
      "Iano\n",
      "Aigor the Skernderc\n",
      "Colis\n",
      "Frees\n",
      " \n",
      "\n"
     ]
    },
    {
     "name": "stderr",
     "output_type": "stream",
     "text": [
      " 46%|██████████████████████████████████                                        | 1839/4000 [1:41:53<2:03:37,  3.43s/it]"
     ]
    },
    {
     "name": "stdout",
     "output_type": "stream",
     "text": [
      "[101m 56s (1840 46%) loss = 0.4011]\n",
      "man\n",
      "Tors\n",
      "Berly Brass\n",
      "Kittiz ID\n",
      "4O Digutio\n",
      "H1 Robot\n",
      "Quardy 5\n",
      "Ronip Tigh\n",
      "T-Bot\n",
      "Serlin\n",
      "Kuton\n",
      "Blitz 9\n",
      "Ro- \n",
      "\n"
     ]
    },
    {
     "name": "stderr",
     "output_type": "stream",
     "text": [
      " 47%|██████████████████████████████████▊                                       | 1879/4000 [1:43:56<1:58:14,  3.35s/it]"
     ]
    },
    {
     "name": "stdout",
     "output_type": "stream",
     "text": [
      "[103m 59s (1880 47%) loss = 0.3833]\n",
      "ron Haro\n",
      "Zane Kuod\n",
      "Automon\n",
      "Alpha and Edugh Mamor Makivato\n",
      "Amokonayron\n",
      "Rakoton\n",
      "AHAROO\n",
      "Micke\n",
      "Light\n",
      "Wate \n",
      "\n"
     ]
    },
    {
     "name": "stderr",
     "output_type": "stream",
     "text": [
      " 48%|███████████████████████████████████▌                                      | 1919/4000 [1:46:09<1:44:17,  3.01s/it]"
     ]
    },
    {
     "name": "stdout",
     "output_type": "stream",
     "text": [
      "[106m 15s (1920 48%) loss = 0.3701]\n",
      "id Evet\n",
      "Alfoid\n",
      "Tre Hawrr Impact\n",
      "Jeanbot\n",
      "Destructbot\n",
      "Setarakien\n",
      "Hinu\n",
      "The Mai\n",
      "Nubot\n",
      "Boz\n",
      "Chii Acassissa\n",
      " \n",
      "\n"
     ]
    },
    {
     "name": "stderr",
     "output_type": "stream",
     "text": [
      " 49%|████████████████████████████████████▏                                     | 1959/4000 [1:48:20<1:59:01,  3.50s/it]"
     ]
    },
    {
     "name": "stdout",
     "output_type": "stream",
     "text": [
      "[108m 23s (1960 49%) loss = 0.3159]\n",
      "sz\n",
      "Hana\n",
      "Linger\n",
      "Baktebot\n",
      "VCOR\n",
      "Proto-Ape\n",
      "Idopo\n",
      "Kfamidy Ses\n",
      "Azia\n",
      "Huloma\n",
      "Gorg\n",
      "Sallke\n",
      "Ladian\n",
      "Tight\n",
      "Bester  \n",
      "\n"
     ]
    },
    {
     "name": "stderr",
     "output_type": "stream",
     "text": [
      " 50%|████████████████████████████████████▉                                     | 1999/4000 [1:50:29<1:39:19,  2.98s/it]"
     ]
    },
    {
     "name": "stdout",
     "output_type": "stream",
     "text": [
      "[110m 32s (2000 50%) loss = 0.3347]\n",
      "on\n",
      "Ullysher\n",
      "Robo-Ractor Robot Zero\n",
      "Peedo Huwisa\n",
      "Jack rabot\n",
      "Jacks\n",
      "SAR-880\n",
      "1-1\n",
      "Divemmabot\n",
      "Bultamon\n",
      "The  \n",
      "\n"
     ]
    },
    {
     "name": "stderr",
     "output_type": "stream",
     "text": [
      " 51%|█████████████████████████████████████▋                                    | 2039/4000 [1:52:37<1:48:02,  3.31s/it]"
     ]
    },
    {
     "name": "stdout",
     "output_type": "stream",
     "text": [
      "[112m 40s (2040 51%) loss = 0.2717]\n",
      "nny\n",
      "Dod\n",
      "Kalfperdirad\n",
      "Mecha Kolbot\n",
      "3JQ4\n",
      "Servbot\n",
      "Sackbot\n",
      "Working Eve\n",
      "Harina\n",
      "The Clinker\n",
      "Jader\n",
      "Scaramouc \n",
      "\n"
     ]
    },
    {
     "name": "stderr",
     "output_type": "stream",
     "text": [
      " 52%|██████████████████████████████████████▍                                   | 2079/4000 [1:54:56<1:44:11,  3.25s/it]"
     ]
    },
    {
     "name": "stdout",
     "output_type": "stream",
     "text": [
      "[115m 0s (2080 52%) loss = 0.2999]\n",
      "QEUGRo-2\n",
      "Bishop\n",
      "Blitz bot\n",
      "BO\n",
      "Porby-2\n",
      "Olik\n",
      "Ja'gre\n",
      "Waeture\n",
      "Mistite\n",
      "Robot Shooty Thing\n",
      "Rotox\n",
      "Robot Alhor \n",
      "\n"
     ]
    },
    {
     "name": "stderr",
     "output_type": "stream",
     "text": [
      " 53%|███████████████████████████████████████▏                                  | 2119/4000 [1:57:04<1:40:29,  3.21s/it]"
     ]
    },
    {
     "name": "stdout",
     "output_type": "stream",
     "text": [
      "[117m 7s (2120 53%) loss = 0.2624]\n",
      "mismo\n",
      "Robot 67 Bright on\n",
      "Huti\n",
      "Medibot\n",
      "Bary\n",
      "Tony\n",
      "Jane Humanoi\n",
      "Karunk Tacha\n",
      "Hek\n",
      "Hartron\n",
      "Valerie 2000\n",
      "Ma \n",
      "\n"
     ]
    },
    {
     "name": "stderr",
     "output_type": "stream",
     "text": [
      " 54%|███████████████████████████████████████▉                                  | 2159/4000 [1:59:19<2:21:55,  4.63s/it]"
     ]
    },
    {
     "name": "stdout",
     "output_type": "stream",
     "text": [
      "[119m 23s (2160 54%) loss = 0.2551]\n",
      "IcOZent\n",
      "ALdroid\n",
      "Aldradossu\n",
      "Adifidy\n",
      "Ormeco\n",
      "Zemoa\n",
      "Ispas\n",
      "Metal Alina Ada\n",
      "Karving\n",
      "Teel\n",
      "Zero unfer\n",
      "Anme La \n",
      "\n"
     ]
    },
    {
     "name": "stderr",
     "output_type": "stream",
     "text": [
      " 55%|████████████████████████████████████████▋                                 | 2199/4000 [2:01:34<1:28:01,  2.93s/it]"
     ]
    },
    {
     "name": "stdout",
     "output_type": "stream",
     "text": [
      "[121m 38s (2200 55%) loss = 0.2208]\n",
      "oqhernys\n",
      "Mochmaz\n",
      "Chine\n",
      "Rudbot\n",
      "Dr. Roger Fick\n",
      "Blitz\n",
      "Brony\n",
      "tho Hive\n",
      "Robo-Lawyer\n",
      "Robo-Pacy\n",
      "Scrutberbot\n",
      "S \n",
      "\n"
     ]
    },
    {
     "name": "stderr",
     "output_type": "stream",
     "text": [
      " 56%|█████████████████████████████████████████▍                                | 2239/4000 [2:03:35<1:25:43,  2.92s/it]"
     ]
    },
    {
     "name": "stdout",
     "output_type": "stream",
     "text": [
      "[123m 40s (2240 56%) loss = 0.2082]\n",
      "jerlly\n",
      "Cynak Tachinator\n",
      "Cylon\n",
      "Number Eight\n",
      "Galen Two\n",
      "Lacter John\n",
      "Zed\n",
      "K1\n",
      "Rooboto\n",
      "Wood-Zace Number Sing \n",
      "\n"
     ]
    },
    {
     "name": "stderr",
     "output_type": "stream",
     "text": [
      " 57%|██████████████████████████████████████████▏                               | 2279/4000 [2:05:42<1:29:31,  3.12s/it]"
     ]
    },
    {
     "name": "stdout",
     "output_type": "stream",
     "text": [
      "[125m 47s (2280 56%) loss = 0.2303]\n",
      "clety 2400\n",
      "1-Rowberi\n",
      "Autonic SARo\n",
      "Sack Tic\n",
      "Al Humano\n",
      "Tilly\n",
      "Chip\n",
      "Coach Gridiron\n",
      "Clevetron\n",
      "Cosbytron Vi \n",
      "\n"
     ]
    },
    {
     "name": "stderr",
     "output_type": "stream",
     "text": [
      " 58%|██████████████████████████████████████████▉                               | 2319/4000 [2:07:46<1:33:01,  3.32s/it]"
     ]
    },
    {
     "name": "stdout",
     "output_type": "stream",
     "text": [
      "[127m 49s (2320 57%) loss = 0.1901]\n",
      "wo-Zero\n",
      "Sektor\n",
      "Smoke\n",
      "Sectox-69\n",
      "Nany\n",
      "Orniaz\n",
      "Autobot\n",
      "Ian\n",
      "Bovarso\n",
      "Dudy\n",
      "Cubot\n",
      "Robo-Ape\n",
      "Robo-Baby\n",
      "Robot\n",
      "Do \n",
      "\n"
     ]
    },
    {
     "name": "stderr",
     "output_type": "stream",
     "text": [
      " 59%|███████████████████████████████████████████▋                              | 2359/4000 [2:09:50<1:28:11,  3.22s/it]"
     ]
    },
    {
     "name": "stdout",
     "output_type": "stream",
     "text": [
      "[129m 52s (2360 59%) loss = 0.1937]\n",
      "5\n",
      "Beyshono\n",
      "Chachamariet\n",
      "Ango\n",
      "Deramon\n",
      "Mariina Shufte Elima\n",
      "Mettaton\n",
      "K1-B0\n",
      "Spong Ava Evasio\n",
      "Farl Gideo\n",
      " \n",
      "\n"
     ]
    },
    {
     "name": "stderr",
     "output_type": "stream",
     "text": [
      " 60%|████████████████████████████████████████████▍                             | 2399/4000 [2:11:50<1:20:07,  3.00s/it]"
     ]
    },
    {
     "name": "stdout",
     "output_type": "stream",
     "text": [
      "[131m 53s (2400 60%) loss = 0.1761]\n",
      "Wertbot 20000\n",
      "Orisa\n",
      "Selli\n",
      "Lervon\n",
      "Cylon\n",
      "Number One\n",
      "Number Presk\n",
      "Androzani\n",
      "Karfelan\n",
      "Drathro\n",
      "L1 Robot\n",
      "So \n",
      "\n"
     ]
    },
    {
     "name": "stderr",
     "output_type": "stream",
     "text": [
      " 61%|█████████████████████████████████████████████                             | 2439/4000 [2:13:50<1:23:44,  3.22s/it]"
     ]
    },
    {
     "name": "stdout",
     "output_type": "stream",
     "text": [
      "[133m 53s (2440 61%) loss = 0.1694]\n",
      "stron Partner Robot\n",
      "GUADM\n",
      "Astro-Bot\n",
      "Noodsdar\n",
      "Kilty Zes\n",
      "Dod-Zerox\n",
      "Bossor\n",
      "Nano\n",
      "Link Joa\n",
      "Nano\n",
      "Manhuntes\n",
      " \n",
      "\n"
     ]
    },
    {
     "name": "stderr",
     "output_type": "stream",
     "text": [
      " 62%|█████████████████████████████████████████████▊                            | 2479/4000 [2:15:56<1:17:23,  3.05s/it]"
     ]
    },
    {
     "name": "stdout",
     "output_type": "stream",
     "text": [
      "[135m 59s (2480 62%) loss = 0.1403]\n",
      ".\n",
      "Zeroid\n",
      "Robotboy\n",
      "Ben 10\n",
      "Slix Vigma\n",
      "SAM\n",
      "Fallbot\n",
      "Lirl\n",
      "Woo-Tace\n",
      "Rotox\n",
      "Barbot\n",
      "Tik Humano\n",
      "Tiptine\n",
      "Number  \n",
      "\n"
     ]
    },
    {
     "name": "stderr",
     "output_type": "stream",
     "text": [
      " 63%|██████████████████████████████████████████████▌                           | 2519/4000 [2:18:00<1:11:42,  2.90s/it]"
     ]
    },
    {
     "name": "stdout",
     "output_type": "stream",
     "text": [
      "[138m 4s (2520 63%) loss = 0.1476]\n",
      "Yornder\n",
      "Haaghortro 9000\n",
      "Cybot\n",
      "Sackbot\n",
      "Working Joe\n",
      "Industrial Joe\n",
      "Ghost\n",
      "Skell\n",
      "Minadrie\n",
      "Dr. Lazaar\n",
      "Tari \n",
      "\n"
     ]
    },
    {
     "name": "stderr",
     "output_type": "stream",
     "text": [
      " 64%|███████████████████████████████████████████████▎                          | 2559/4000 [2:20:08<1:13:59,  3.08s/it]"
     ]
    },
    {
     "name": "stdout",
     "output_type": "stream",
     "text": [
      "[140m 11s (2560 64%) loss = 0.1412]\n",
      "Warther\n",
      "CARR\n",
      "Diger\n",
      "Balpelder\n",
      "Dradla\n",
      "Rapyylon\n",
      "Guardian of the Status\n",
      "Kurty\n",
      "Dr. Vacack\n",
      "Android 8\n",
      "Dr. Ge \n",
      "\n"
     ]
    },
    {
     "name": "stderr",
     "output_type": "stream",
     "text": [
      " 65%|████████████████████████████████████████████████                          | 2599/4000 [2:22:13<1:09:24,  2.97s/it]"
     ]
    },
    {
     "name": "stdout",
     "output_type": "stream",
     "text": [
      "[142m 15s (2600 65%) loss = 0.1322]\n",
      "La\n",
      "K-XO\n",
      "STX-3\n",
      "T-Bobt\n",
      "Cobot So-Bot\n",
      "Go-bot\n",
      "Voltron\n",
      "Roboto\n",
      "Voice\n",
      "Assos\n",
      "K1-BO\n",
      "Sillypesd Angor\n",
      "Evet om Alp \n",
      "\n"
     ]
    },
    {
     "name": "stderr",
     "output_type": "stream",
     "text": [
      " 66%|████████████████████████████████████████████████▊                         | 2639/4000 [2:24:25<1:35:17,  4.20s/it]"
     ]
    },
    {
     "name": "stdout",
     "output_type": "stream",
     "text": [
      "[144m 28s (2640 66%) loss = 0.1370]\n",
      "7\n",
      "Sled Aldrian\n",
      "Cwian\n",
      "The Vai\n",
      "Mecker\n",
      "Black Lion\n",
      "Blip\n",
      "Blitz bot\n",
      "BDot\n",
      "Batts Robot\n",
      "ChuLXa\n",
      "Kimy\n",
      "Sdusts\n",
      "Avi \n",
      "\n"
     ]
    },
    {
     "name": "stderr",
     "output_type": "stream",
     "text": [
      " 67%|█████████████████████████████████████████████████▌                        | 2679/4000 [2:26:30<1:04:38,  2.94s/it]"
     ]
    },
    {
     "name": "stdout",
     "output_type": "stream",
     "text": [
      "[146m 33s (2680 67%) loss = 0.1234]\n",
      "pher Evatar of the Guardian\n",
      "Osirian Visiu 5\n",
      "Welder\n",
      "Xony Test\n",
      "Tama\n",
      "Woodbot\n",
      "Serling\n",
      "Viral\n",
      "Cyber Shredde \n",
      "\n"
     ]
    },
    {
     "name": "stderr",
     "output_type": "stream",
     "text": [
      " 68%|██████████████████████████████████████████████████▎                       | 2719/4000 [2:28:35<1:23:27,  3.91s/it]"
     ]
    },
    {
     "name": "stdout",
     "output_type": "stream",
     "text": [
      "[148m 38s (2720 68%) loss = 0.1240]\n",
      "dy\n",
      "Dr. Gero\n",
      "Beetlebot\n",
      "Bossbot\n",
      "Rubert\n",
      "The Vacunator\n",
      "Ezekiel\n",
      "X-bot\n",
      "Ping\n",
      "Pintsize\n",
      "Clango Cyclotron\n",
      "Stell \n",
      "\n"
     ]
    },
    {
     "name": "stderr",
     "output_type": "stream",
     "text": [
      " 69%|███████████████████████████████████████████████████                       | 2759/4000 [2:30:41<1:02:14,  3.01s/it]"
     ]
    },
    {
     "name": "stdout",
     "output_type": "stream",
     "text": [
      "[150m 45s (2760 69%) loss = 0.1205]\n",
      "YEdt\n",
      "2D0\n",
      "T-Bob\n",
      "Bionic Six\n",
      "Julian Tainer\n",
      "Tenaya 4\n",
      "R-Do\n",
      "Android Al Avatron\n",
      "Seers of the Oracli\n",
      "Orliz\n",
      "Ch \n",
      "\n"
     ]
    },
    {
     "name": "stderr",
     "output_type": "stream",
     "text": [
      " 70%|███████████████████████████████████████████████████▊                      | 2799/4000 [2:32:43<1:02:17,  3.11s/it]"
     ]
    },
    {
     "name": "stdout",
     "output_type": "stream",
     "text": [
      "[152m 45s (2800 70%) loss = 0.1289]\n",
      "Zero 2000\n",
      "Evie the Robot\n",
      "Grindertron\n",
      "Ken Cne Ham Enhanced Secret Enforcer\n",
      "Dight\n",
      "Blink-Ron\n",
      "Ruckt\n",
      "Brobo \n",
      "\n"
     ]
    },
    {
     "name": "stderr",
     "output_type": "stream",
     "text": [
      " 71%|████████████████████████████████████████████████████▌                     | 2839/4000 [2:34:50<1:01:35,  3.18s/it]"
     ]
    },
    {
     "name": "stdout",
     "output_type": "stream",
     "text": [
      "[154m 52s (2840 71%) loss = 0.1320]\n",
      "7\n",
      "Brikko-Pach-Robo\n",
      "Chica\n",
      "Litri Kuso\n",
      "Zenyatta\n",
      "Tekhartha Mondatta\n",
      "Chefbot 9000\n",
      "Dr. Kahl's Robot\n",
      "Omnic\n",
      "G \n",
      "\n"
     ]
    },
    {
     "name": "stderr",
     "output_type": "stream",
     "text": [
      " 72%|██████████████████████████████████████████████████████▋                     | 2879/4000 [2:36:51<58:32,  3.13s/it]"
     ]
    },
    {
     "name": "stdout",
     "output_type": "stream",
     "text": [
      "[156m 55s (2880 72%) loss = 0.1139]\n",
      "9\n",
      "S.ot\n",
      "Adam\n",
      "Zero\n",
      "LUX TIZER\n",
      "Foxy\n",
      "Chica\n",
      "Mettaton\n",
      "K1-9000\n",
      "T-20\n",
      "Simo\n",
      "Clango Cyclotron\n",
      "Stella 4D\n",
      "Manager 4 \n",
      "\n"
     ]
    },
    {
     "name": "stderr",
     "output_type": "stream",
     "text": [
      " 73%|███████████████████████████████████████████████████████▍                    | 2919/4000 [2:38:52<54:22,  3.02s/it]"
     ]
    },
    {
     "name": "stdout",
     "output_type": "stream",
     "text": [
      "[158m 55s (2920 73%) loss = 0.1013]\n",
      "60\n",
      "SEM\n",
      "Draturi\n",
      "Anidli\n",
      "Ara Dakharnus\n",
      "Marvin\n",
      "Chip\n",
      "Roderick\n",
      "Autobot\n",
      "Elio\n",
      "Manders\n",
      "Selli\n",
      "Ruembot\n",
      "Warrenbot \n",
      "\n"
     ]
    },
    {
     "name": "stderr",
     "output_type": "stream",
     "text": [
      " 74%|████████████████████████████████████████████████████████▏                   | 2959/4000 [2:41:03<54:10,  3.12s/it]"
     ]
    },
    {
     "name": "stdout",
     "output_type": "stream",
     "text": [
      "[161m 6s (2960 74%) loss = 0.1001]\n",
      "A2\n",
      "Nuty\n",
      "Ledbot\n",
      "CDbot\n",
      "Stockbot\n",
      "XI-PO\n",
      "7-S\n",
      "EDilly\n",
      "Archie\n",
      "Lanman Vicimat\n",
      "Andrea\n",
      "Ida\n",
      "Darakomator\n",
      "Call\n",
      "X-bo \n",
      "\n"
     ]
    },
    {
     "name": "stderr",
     "output_type": "stream",
     "text": [
      " 75%|████████████████████████████████████████████████████████▉                   | 2999/4000 [2:43:12<48:50,  2.93s/it]"
     ]
    },
    {
     "name": "stdout",
     "output_type": "stream",
     "text": [
      "[163m 15s (3000 75%) loss = 0.1026]\n",
      "era\n",
      "Scrapmaster\n",
      "Scrubberbot\n",
      "Secretarabot 2500\n",
      "Space Robot\n",
      "Krackenstein\n",
      "Kulyinus\n",
      "Comber\n",
      "Ashlotte\n",
      "Cowbo \n",
      "\n"
     ]
    },
    {
     "name": "stderr",
     "output_type": "stream",
     "text": [
      " 76%|████████████████████████████████████████████████████████▏                 | 3039/4000 [2:45:25<1:00:10,  3.76s/it]"
     ]
    },
    {
     "name": "stdout",
     "output_type": "stream",
     "text": [
      "[165m 28s (3040 76%) loss = 0.0962]\n",
      "y\n",
      "Number Three\n",
      "Number Five\n",
      "Number Six\n",
      "Number Seven\n",
      "Number Eight\n",
      "Galen Tyrol\n",
      "Tory Foster\n",
      "Saul Tigh\n",
      "Ell \n",
      "\n"
     ]
    },
    {
     "name": "stderr",
     "output_type": "stream",
     "text": [
      " 77%|████████████████████████████████████████████████████████▉                 | 3079/4000 [2:47:41<1:02:20,  4.06s/it]"
     ]
    },
    {
     "name": "stdout",
     "output_type": "stream",
     "text": [
      "[167m 45s (3080 77%) loss = 0.0846]\n",
      "3\n",
      "Servo 400\n",
      "Mace Drone\n",
      "Mldar\n",
      "Chine\n",
      "Cumapon\n",
      "Krisdnargant of the Guardiamo\n",
      "Chip\n",
      "Roderick\n",
      "Autobot\n",
      "The Se \n",
      "\n"
     ]
    },
    {
     "name": "stderr",
     "output_type": "stream",
     "text": [
      " 78%|███████████████████████████████████████████████████████████▎                | 3119/4000 [2:49:54<44:31,  3.03s/it]"
     ]
    },
    {
     "name": "stdout",
     "output_type": "stream",
     "text": [
      "[169m 57s (3120 78%) loss = 0.0938]\n",
      "Zanker\n",
      "Vanean\n",
      "Molle Edilite 2000\n",
      "T-101\n",
      "Beta\n",
      "DARYL\n",
      "Sico\n",
      "BB\n",
      "Bishop\n",
      "Jinx\n",
      "Spot\n",
      "RLLa\n",
      "Listron\n",
      "The Perimetor \n",
      "\n"
     ]
    },
    {
     "name": "stderr",
     "output_type": "stream",
     "text": [
      " 79%|████████████████████████████████████████████████████████████                | 3159/4000 [2:52:03<46:39,  3.33s/it]"
     ]
    },
    {
     "name": "stdout",
     "output_type": "stream",
     "text": [
      "[172m 7s (3160 79%) loss = 0.1019]\n",
      "-37\n",
      "Project 2510\n",
      "Spongetron\n",
      "Valerie 23\n",
      "Mary 25\n",
      "Azaka\n",
      "Kamidake\n",
      "Vanfuceo\n",
      "Fore\n",
      "Karumbot\n",
      "Dacoid\n",
      "Nodbot\n",
      "Ze \n",
      "\n"
     ]
    },
    {
     "name": "stderr",
     "output_type": "stream",
     "text": [
      " 80%|████████████████████████████████████████████████████████████▊               | 3199/4000 [2:54:15<53:25,  4.00s/it]"
     ]
    },
    {
     "name": "stdout",
     "output_type": "stream",
     "text": [
      "[174m 20s (3200 80%) loss = 0.0902]\n",
      "Yomd\n",
      "Rusty\n",
      "Satan's Robot\n",
      "Ian Favon\n",
      "Number One\n",
      "Number Two\n",
      "Number Three\n",
      "Number Five\n",
      "Number Shredder\n",
      "Oct \n",
      "\n"
     ]
    },
    {
     "name": "stderr",
     "output_type": "stream",
     "text": [
      " 81%|█████████████████████████████████████████████████████████████▌              | 3239/4000 [2:56:20<41:16,  3.25s/it]"
     ]
    },
    {
     "name": "stdout",
     "output_type": "stream",
     "text": [
      "[176m 22s (3240 81%) loss = 0.0775]\n",
      "ver\n",
      "Eleko\n",
      "Hapina\n",
      "Tres\n",
      "Fallbot\n",
      "Loganator\n",
      "Johnny Test\n",
      "Tama\n",
      "Woodbot\n",
      "Serling\n",
      "Viral\n",
      "Cyber Shredder\n",
      "Octus\n",
      "S \n",
      "\n"
     ]
    },
    {
     "name": "stderr",
     "output_type": "stream",
     "text": [
      " 82%|██████████████████████████████████████████████████████████████▎             | 3279/4000 [2:58:40<42:34,  3.54s/it]"
     ]
    },
    {
     "name": "stdout",
     "output_type": "stream",
     "text": [
      "[178m 42s (3280 82%) loss = 0.0761]\n",
      "n\n",
      "Zina Wain\n",
      "King\n",
      "Oimiol Indandysson\n",
      "Tors\n",
      "Zerone\n",
      "Mindrien\n",
      "Specar\n",
      "Anne Droid\n",
      "HMX-17a Ilfa\n",
      "Trin-E\n",
      "Zu-Zan \n",
      "\n"
     ]
    },
    {
     "name": "stderr",
     "output_type": "stream",
     "text": [
      " 83%|███████████████████████████████████████████████████████████████             | 3319/4000 [3:01:07<35:22,  3.12s/it]"
     ]
    },
    {
     "name": "stdout",
     "output_type": "stream",
     "text": [
      "[181m 10s (3320 83%) loss = 0.0801]\n",
      "ly\n",
      "Dr. Ion\n",
      "Shamus\n",
      "Cyber Sub-Zatuns\n",
      "MM7\n",
      "Mr RING\n",
      "Death Probe\n",
      "Questor\n",
      "Taran\n",
      "Movellans\n",
      "K9\n",
      "Polyphase Avatr \n",
      "\n"
     ]
    },
    {
     "name": "stderr",
     "output_type": "stream",
     "text": [
      " 84%|███████████████████████████████████████████████████████████████▊            | 3359/4000 [3:03:19<37:11,  3.48s/it]"
     ]
    },
    {
     "name": "stdout",
     "output_type": "stream",
     "text": [
      "[183m 23s (3360 84%) loss = 0.0723]\n",
      "z\n",
      "Dr. Imaco\n",
      "Zet\n",
      "Adimidaton\n",
      "CHAPPOOR\n",
      "Bed\n",
      "Arnus Mapping\n",
      "Alfie the Robot\n",
      "Judy\n",
      "K-Pop\n",
      "Kitty Ko\n",
      "Kraken\n",
      "Krie \n",
      "\n"
     ]
    },
    {
     "name": "stderr",
     "output_type": "stream",
     "text": [
      " 85%|████████████████████████████████████████████████████████████████▌           | 3399/4000 [3:05:35<36:32,  3.65s/it]"
     ]
    },
    {
     "name": "stdout",
     "output_type": "stream",
     "text": [
      "[185m 40s (3400 85%) loss = 0.0819]\n",
      "wferimod Ace Komoku\n",
      "Karukie\n",
      "Nechy Robot\n",
      "The Servant of the Guardian\n",
      "Roboto\n",
      "Vopteco\n",
      "Specter\n",
      "XBorg\n",
      "Yell \n",
      "\n"
     ]
    },
    {
     "name": "stderr",
     "output_type": "stream",
     "text": [
      " 86%|█████████████████████████████████████████████████████████████████           | 3427/4000 [3:07:10<30:45,  3.22s/it]"
     ]
    },
    {
     "name": "stdout",
     "output_type": "stream",
     "text": [
      "Saving before quit...\n"
     ]
    },
    {
     "name": "stderr",
     "output_type": "stream",
     "text": [
      "C:\\Users\\palladium\\AppData\\Local\\Continuum\\Anaconda3\\lib\\site-packages\\torch\\serialization.py:193: UserWarning: Couldn't retrieve source code for container of type CharRNN. It won't be checked for correctness upon loading.\n",
      "  \"type \" + obj.__name__ + \". It won't be checked \"\n"
     ]
    },
    {
     "name": "stdout",
     "output_type": "stream",
     "text": [
      "Saved as Robomoniker-model-GRU.pt\n"
     ]
    }
   ],
   "source": [
    "start = time.time()\n",
    "all_losses = []\n",
    "loss_avg = 0\n",
    "\n",
    "try:\n",
    "    print(\"Training for %d epochs...\" % n_epochs)\n",
    "    for epoch in tqdm(range(1, n_epochs + 1)):\n",
    "        loss = train(*random_training_set(chunk_len, batch_size))\n",
    "        loss_avg += loss\n",
    "        all_losses.append(loss)\n",
    "\n",
    "        if epoch % print_every == 0:\n",
    "            print('[%s (%d %d%%) loss = %.4f]' % (time_since(start), epoch, epoch / n_epochs * 100, loss))\n",
    "            rand_char = random.choice(all_characters)\n",
    "            print(generate(decoder, prime_str=rand_char, predict_len=100), '\\n')\n",
    "\n",
    "    print(\"Saving...\")\n",
    "    save()\n",
    "\n",
    "except KeyboardInterrupt:\n",
    "    print(\"Saving before quit...\")\n",
    "    save()"
   ]
  },
  {
   "cell_type": "markdown",
   "metadata": {},
   "source": [
    "### Training loss history"
   ]
  },
  {
   "cell_type": "code",
   "execution_count": 13,
   "metadata": {},
   "outputs": [
    {
     "data": {
      "image/png": "[encoded data removed]",
      "text/plain": [
       "<matplotlib.figure.Figure at 0x22935255400>"
      ]
     },
     "metadata": {},
     "output_type": "display_data"
    }
   ],
   "source": [
    "import matplotlib.pyplot as plt\n",
    "import matplotlib.ticker as ticker\n",
    "\n",
    "plt.figure()\n",
    "plt.plot(all_losses)\n",
    "plt.show()"
   ]
  },
  {
   "cell_type": "code",
   "execution_count": 15,
   "metadata": {},
   "outputs": [
    {
     "name": "stderr",
     "output_type": "stream",
     "text": [
      "C:\\Users\\palladium\\AppData\\Local\\Continuum\\Anaconda3\\lib\\site-packages\\torch\\serialization.py:193: UserWarning: Couldn't retrieve source code for container of type CharRNN. It won't be checked for correctness upon loading.\n",
      "  \"type \" + obj.__name__ + \". It won't be checked \"\n"
     ]
    },
    {
     "name": "stdout",
     "output_type": "stream",
     "text": [
      "Saved as Robomoniker-model-GRU.pt\n"
     ]
    }
   ],
   "source": [
    "save()"
   ]
  },
  {
   "cell_type": "code",
   "execution_count": null,
   "metadata": {
    "collapsed": true
   },
   "outputs": [],
   "source": []
  },
  {
   "cell_type": "code",
   "execution_count": 14,
   "metadata": {},
   "outputs": [
    {
     "ename": "SyntaxError",
     "evalue": "invalid syntax (<ipython-input-14-ce38d2073387>, line 2)",
     "output_type": "error",
     "traceback": [
      "\u001b[1;36m  File \u001b[1;32m\"<ipython-input-14-ce38d2073387>\"\u001b[1;36m, line \u001b[1;32m2\u001b[0m\n\u001b[1;33m    primer = string.ascii_letters[np.random.randint(low=26, high=52]\u001b[0m\n\u001b[1;37m                                                                   ^\u001b[0m\n\u001b[1;31mSyntaxError\u001b[0m\u001b[1;31m:\u001b[0m invalid syntax\n"
     ]
    }
   ],
   "source": [
    "decoder = torch.load(save_filename)\n",
    "primer = string.ascii_letters[np.random.randint(low=26, high=52]\n",
    "print(generate(decoder, )"
   ]
  }
 ],
 "metadata": {
  "anaconda-cloud": {},
  "kernelspec": {
   "display_name": "Python [conda env:Anaconda3]",
   "language": "python",
   "name": "conda-env-Anaconda3-py"
  },
  "language_info": {
   "codemirror_mode": {
    "name": "ipython",
    "version": 3
   },
   "file_extension": ".py",
   "mimetype": "text/x-python",
   "name": "python",
   "nbconvert_exporter": "python",
   "pygments_lexer": "ipython3",
   "version": "3.5.4"
  }
 },
 "nbformat": 4,
 "nbformat_minor": 2
}
